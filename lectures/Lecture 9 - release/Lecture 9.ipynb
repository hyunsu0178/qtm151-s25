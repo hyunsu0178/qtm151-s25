{
 "cells": [
  {
   "cell_type": "markdown",
   "metadata": {},
   "source": [
    "# <span style=\"color:darkblue\"> Lecture 9. Random Assignment </span>\n"
   ]
  },
  {
   "cell_type": "markdown",
   "metadata": {},
   "source": [
    "Housekeeping\n",
    "- This week, we have Assignment 5 due on Friday (2/21) 11:59PM.\n",
    "- Next Tuesday, we have the second quiz.\n",
    "- After today, you will be able to sign up for a Project Group, from Canvas' People tab. Each group should have 3-4 people. If you are not assigned to a group by the end of Spring break, you will be assigned to open spots randomly.\n",
    "<br>\n",
    "<br>"
   ]
  },
  {
   "cell_type": "markdown",
   "metadata": {},
   "source": [
    "Last Thursday:<br>\n",
    "<ul>\n",
    "<li> We were applying different commands we learned to a real dataset for cleaning and recoding."
   ]
  },
  {
   "cell_type": "code",
   "execution_count": 1,
   "metadata": {},
   "outputs": [],
   "source": [
    "# Go to: Recoding categorical values into numbers"
   ]
  },
  {
   "cell_type": "markdown",
   "metadata": {},
   "source": [
    "<font size = \"3\">\n",
    "Today:\n",
    "\n",
    "- Our weekly themes are starting to look more like a real data manipulation project than a curated lecture!\n",
    "- Concepts already \"introduced\" but require practice, so in this notebook:\n",
    "<ol><font size = \"3\">\n",
    "    <li> Pseudo-code writing </li>\n",
    "    <li> Technology for manipulating strings: be proficient in str.split </li>\n",
    "    <li> Random sampling </li>\n",
    "    <li> Loop </li>\n",
    "    <li> Dictionary object (very important) </li>\n",
    "    <li> Pandas Series object </li>\n",
    "</ol>\n",
    "\n",
    "<font size = \"3\">\n",
    "\n",
    "- \"Not yet introduced\" concepts in this notebook: <br>\n",
    "<ol><font size = \"4\">\n",
    "    <li> Thought flow for manipulating strings: what is the key? </li>\n",
    "    <li> Solving equations with sympy (not that important in and of itself, but a useful practice of using a new library/command) </li>\n",
    "\n",
    "**Dictionary** object\n",
    "\n",
    "<img src = \"figures/credits-programiz.png\">\n",
    "<font size = \"1\">\n",
    "Credits: https://www.programiz.com/python-programming/dictionary\n",
    "\n"
   ]
  },
  {
   "cell_type": "markdown",
   "metadata": {},
   "source": [
    "## <span style=\"color:darkblue\"> I. Import raw data and define mini-tasks\n",
    "\n",
    "<font size = \"3\"> Today's quest: Jiwon is trying to assign students to groups for a project. She has a list of names and the year that each student is in. Help her!"
   ]
  },
  {
   "cell_type": "code",
   "execution_count": 2,
   "metadata": {},
   "outputs": [],
   "source": [
    "import pandas as pd\n",
    "import numpy as np\n",
    "import random"
   ]
  },
  {
   "cell_type": "markdown",
   "metadata": {},
   "source": [
    "<font size = \"3\"> So, this is the dataset: (FYI: your name, year, and pronoun is public information on Canvas.)<br>\n",
    "<br>\n",
    "<font size = \"3\"> Q: How to explore what the data looks like?"
   ]
  },
  {
   "cell_type": "code",
   "execution_count": 6,
   "metadata": {},
   "outputs": [
    {
     "data": {
      "application/vnd.microsoft.datawrangler.viewer.v0+json": {
       "columns": [
        {
         "name": "index",
         "rawType": "int64",
         "type": "integer"
        },
        {
         "name": "Notify",
         "rawType": "float64",
         "type": "float"
        },
        {
         "name": "ID",
         "rawType": "int64",
         "type": "integer"
        },
        {
         "name": "Name",
         "rawType": "object",
         "type": "string"
        },
        {
         "name": "Grade Basis",
         "rawType": "object",
         "type": "string"
        },
        {
         "name": "Units",
         "rawType": "int64",
         "type": "integer"
        },
        {
         "name": "Program and Plan",
         "rawType": "object",
         "type": "string"
        },
        {
         "name": "Level",
         "rawType": "object",
         "type": "string"
        }
       ],
       "conversionMethod": "pd.DataFrame",
       "ref": "bee7d29f-655a-4845-8820-d7862a08b51b",
       "rows": [
        [
         "0",
         null,
         "2554542",
         "Adeola,Isabella Olutoyin (she/her/hers)",
         "Graded",
         "2",
         "Liberal Arts & Sciences - Quantitative Sciences BS/English Minor",
         "Junior"
        ],
        [
         "1",
         null,
         "2554565",
         "Alshekhlee,Zina (she/her/hers)",
         "Graded",
         "2",
         "Liberal Arts & Sciences - Psychology BA/Quantitative Sciences ND",
         "Senior"
        ],
        [
         "2",
         null,
         "2630943",
         "Arora,Advitya",
         "Graded",
         "2",
         "Liberal Arts & Sciences - Undeclared - Arts & Sciences",
         "Sophomore"
        ],
        [
         "3",
         null,
         "2540470",
         "Bayyigit,Onur (he/him/his)",
         "Graded",
         "2",
         "Liberal Arts & Sciences - Quantitative Sciences BS",
         "Junior"
        ],
        [
         "4",
         null,
         "2671403",
         "Bell Jr.,Wallace (he/him/his)",
         "Graded",
         "2",
         "Liberal Arts & Sciences - Undeclared - Arts & Sciences",
         "Freshman"
        ],
        [
         "5",
         null,
         "2550484",
         "Belykh,Max",
         "Graded",
         "2",
         "Liberal Arts & Sciences - Economics BA",
         "Junior"
        ],
        [
         "6",
         null,
         "2492303",
         "Bhatia,Kush (he/him/his)",
         "Graded",
         "2",
         "Bachelor of Business Admin - Business Administration/Quantitative Sciences",
         "Senior"
        ],
        [
         "7",
         null,
         "2486624",
         "Braverman,Charlie Cody (he/him/his)",
         "Graded",
         "2",
         "Liberal Arts & Sciences - Economics BA/Quantitative Sciences Minor",
         "Senior"
        ],
        [
         "8",
         null,
         "2696966",
         "Brodsky,Sammy (he/him/his)",
         "Graded",
         "2",
         "Liberal Arts & Sciences - Undeclared - Arts & Sciences/Film and Media Minor",
         "Freshman"
        ],
        [
         "9",
         null,
         "2675122",
         "Cao,Edward",
         "Graded",
         "2",
         "Liberal Arts & Sciences - Undeclared - Arts & Sciences",
         "Freshman"
        ]
       ],
       "shape": {
        "columns": 7,
        "rows": 10
       }
      },
      "text/html": [
       "<div>\n",
       "<style scoped>\n",
       "    .dataframe tbody tr th:only-of-type {\n",
       "        vertical-align: middle;\n",
       "    }\n",
       "\n",
       "    .dataframe tbody tr th {\n",
       "        vertical-align: top;\n",
       "    }\n",
       "\n",
       "    .dataframe thead th {\n",
       "        text-align: right;\n",
       "    }\n",
       "</style>\n",
       "<table border=\"1\" class=\"dataframe\">\n",
       "  <thead>\n",
       "    <tr style=\"text-align: right;\">\n",
       "      <th></th>\n",
       "      <th>Notify</th>\n",
       "      <th>ID</th>\n",
       "      <th>Name</th>\n",
       "      <th>Grade Basis</th>\n",
       "      <th>Units</th>\n",
       "      <th>Program and Plan</th>\n",
       "      <th>Level</th>\n",
       "    </tr>\n",
       "  </thead>\n",
       "  <tbody>\n",
       "    <tr>\n",
       "      <th>0</th>\n",
       "      <td>NaN</td>\n",
       "      <td>2554542</td>\n",
       "      <td>Adeola,Isabella Olutoyin (she/her/hers)</td>\n",
       "      <td>Graded</td>\n",
       "      <td>2</td>\n",
       "      <td>Liberal Arts &amp; Sciences - Quantitative Science...</td>\n",
       "      <td>Junior</td>\n",
       "    </tr>\n",
       "    <tr>\n",
       "      <th>1</th>\n",
       "      <td>NaN</td>\n",
       "      <td>2554565</td>\n",
       "      <td>Alshekhlee,Zina (she/her/hers)</td>\n",
       "      <td>Graded</td>\n",
       "      <td>2</td>\n",
       "      <td>Liberal Arts &amp; Sciences - Psychology BA/Quanti...</td>\n",
       "      <td>Senior</td>\n",
       "    </tr>\n",
       "    <tr>\n",
       "      <th>2</th>\n",
       "      <td>NaN</td>\n",
       "      <td>2630943</td>\n",
       "      <td>Arora,Advitya</td>\n",
       "      <td>Graded</td>\n",
       "      <td>2</td>\n",
       "      <td>Liberal Arts &amp; Sciences - Undeclared - Arts &amp; ...</td>\n",
       "      <td>Sophomore</td>\n",
       "    </tr>\n",
       "    <tr>\n",
       "      <th>3</th>\n",
       "      <td>NaN</td>\n",
       "      <td>2540470</td>\n",
       "      <td>Bayyigit,Onur (he/him/his)</td>\n",
       "      <td>Graded</td>\n",
       "      <td>2</td>\n",
       "      <td>Liberal Arts &amp; Sciences - Quantitative Science...</td>\n",
       "      <td>Junior</td>\n",
       "    </tr>\n",
       "    <tr>\n",
       "      <th>4</th>\n",
       "      <td>NaN</td>\n",
       "      <td>2671403</td>\n",
       "      <td>Bell Jr.,Wallace (he/him/his)</td>\n",
       "      <td>Graded</td>\n",
       "      <td>2</td>\n",
       "      <td>Liberal Arts &amp; Sciences - Undeclared - Arts &amp; ...</td>\n",
       "      <td>Freshman</td>\n",
       "    </tr>\n",
       "    <tr>\n",
       "      <th>5</th>\n",
       "      <td>NaN</td>\n",
       "      <td>2550484</td>\n",
       "      <td>Belykh,Max</td>\n",
       "      <td>Graded</td>\n",
       "      <td>2</td>\n",
       "      <td>Liberal Arts &amp; Sciences - Economics BA</td>\n",
       "      <td>Junior</td>\n",
       "    </tr>\n",
       "    <tr>\n",
       "      <th>6</th>\n",
       "      <td>NaN</td>\n",
       "      <td>2492303</td>\n",
       "      <td>Bhatia,Kush (he/him/his)</td>\n",
       "      <td>Graded</td>\n",
       "      <td>2</td>\n",
       "      <td>Bachelor of Business Admin - Business Administ...</td>\n",
       "      <td>Senior</td>\n",
       "    </tr>\n",
       "    <tr>\n",
       "      <th>7</th>\n",
       "      <td>NaN</td>\n",
       "      <td>2486624</td>\n",
       "      <td>Braverman,Charlie Cody (he/him/his)</td>\n",
       "      <td>Graded</td>\n",
       "      <td>2</td>\n",
       "      <td>Liberal Arts &amp; Sciences - Economics BA/Quantit...</td>\n",
       "      <td>Senior</td>\n",
       "    </tr>\n",
       "    <tr>\n",
       "      <th>8</th>\n",
       "      <td>NaN</td>\n",
       "      <td>2696966</td>\n",
       "      <td>Brodsky,Sammy (he/him/his)</td>\n",
       "      <td>Graded</td>\n",
       "      <td>2</td>\n",
       "      <td>Liberal Arts &amp; Sciences - Undeclared - Arts &amp; ...</td>\n",
       "      <td>Freshman</td>\n",
       "    </tr>\n",
       "    <tr>\n",
       "      <th>9</th>\n",
       "      <td>NaN</td>\n",
       "      <td>2675122</td>\n",
       "      <td>Cao,Edward</td>\n",
       "      <td>Graded</td>\n",
       "      <td>2</td>\n",
       "      <td>Liberal Arts &amp; Sciences - Undeclared - Arts &amp; ...</td>\n",
       "      <td>Freshman</td>\n",
       "    </tr>\n",
       "  </tbody>\n",
       "</table>\n",
       "</div>"
      ],
      "text/plain": [
       "   Notify       ID                                     Name Grade Basis  \\\n",
       "0     NaN  2554542  Adeola,Isabella Olutoyin (she/her/hers)      Graded   \n",
       "1     NaN  2554565           Alshekhlee,Zina (she/her/hers)      Graded   \n",
       "2     NaN  2630943                            Arora,Advitya      Graded   \n",
       "3     NaN  2540470               Bayyigit,Onur (he/him/his)      Graded   \n",
       "4     NaN  2671403            Bell Jr.,Wallace (he/him/his)      Graded   \n",
       "5     NaN  2550484                               Belykh,Max      Graded   \n",
       "6     NaN  2492303                 Bhatia,Kush (he/him/his)      Graded   \n",
       "7     NaN  2486624      Braverman,Charlie Cody (he/him/his)      Graded   \n",
       "8     NaN  2696966               Brodsky,Sammy (he/him/his)      Graded   \n",
       "9     NaN  2675122                               Cao,Edward      Graded   \n",
       "\n",
       "   Units                                   Program and Plan      Level  \n",
       "0      2  Liberal Arts & Sciences - Quantitative Science...     Junior  \n",
       "1      2  Liberal Arts & Sciences - Psychology BA/Quanti...     Senior  \n",
       "2      2  Liberal Arts & Sciences - Undeclared - Arts & ...  Sophomore  \n",
       "3      2  Liberal Arts & Sciences - Quantitative Science...     Junior  \n",
       "4      2  Liberal Arts & Sciences - Undeclared - Arts & ...   Freshman  \n",
       "5      2             Liberal Arts & Sciences - Economics BA     Junior  \n",
       "6      2  Bachelor of Business Admin - Business Administ...     Senior  \n",
       "7      2  Liberal Arts & Sciences - Economics BA/Quantit...     Senior  \n",
       "8      2  Liberal Arts & Sciences - Undeclared - Arts & ...   Freshman  \n",
       "9      2  Liberal Arts & Sciences - Undeclared - Arts & ...   Freshman  "
      ]
     },
     "execution_count": 6,
     "metadata": {},
     "output_type": "execute_result"
    }
   ],
   "source": [
    "df = pd.read_csv('data/opus_s25_qtm151.csv')\n",
    "df.head(10)"
   ]
  },
  {
   "cell_type": "markdown",
   "metadata": {},
   "source": [
    "<font size = \"3\">\n",
    "\n",
    "**Mini-task 1:** When there is a name, it's almost always useful to have the first and the last name saved in separate columns. Create columns 'first_name' and 'last_name'. We don't need the pronoun information."
   ]
  },
  {
   "cell_type": "code",
   "execution_count": 8,
   "metadata": {},
   "outputs": [],
   "source": [
    "# What is your pseudo code? For example:\n",
    "# 1. Locate each row of the Name column\n",
    "# 2. Separate first names and last names by comma\n",
    "# 3. Get rid of the pronoun info, detecting it by the paraentheses that surround it."
   ]
  },
  {
   "cell_type": "markdown",
   "metadata": {},
   "source": [
    "\n",
    "\n",
    "<br>\n",
    "<br>\n",
    "\n",
    "**Mini-task 2:** Say we don't want the average years across project groups to be too different. How should the 'Level' column be recoded?"
   ]
  },
  {
   "cell_type": "code",
   "execution_count": 9,
   "metadata": {},
   "outputs": [],
   "source": [
    "# What is your pseudo code?"
   ]
  },
  {
   "cell_type": "markdown",
   "metadata": {},
   "source": [
    "<p align = \"center\">\n",
    "<img src = \"figures/thinker.jfif\">"
   ]
  },
  {
   "cell_type": "markdown",
   "metadata": {},
   "source": [
    "## <span style = 'color: darkblue'> II. Mini task I: Create new name columns from the existing column\n",
    "\n",
    "### (a) Split the 'Name' column into 'first_name' and 'last_name' columns\n",
    "\n",
    "<br><br>\n",
    "\n",
    "<font size = \"3\"> As you guys said, we have an important key: the comma that separates first and last names;\n",
    "\n",
    "```\\n\\n``` that separates the name and the pronoun; pronouns are wrapped with paraentheses."
   ]
  },
  {
   "cell_type": "markdown",
   "metadata": {},
   "source": [
    "#### 1. First, **test** your solution with one or two observations (a very simple proof of concept)"
   ]
  },
  {
   "cell_type": "code",
   "execution_count": 10,
   "metadata": {},
   "outputs": [
    {
     "name": "stdout",
     "output_type": "stream",
     "text": [
      "Adeola\n",
      "Isabella Olutoyin (she/her/hers)\n",
      "Alshekhlee\n",
      "Zina (she/her/hers)\n"
     ]
    }
   ],
   "source": [
    "print(df['Name'][0].split(',')[0])\n",
    "print(df['Name'][0].split(',')[1])\n",
    "print(df['Name'][1].split(',')[0])\n",
    "print(df['Name'][1].split(',')[1])"
   ]
  },
  {
   "cell_type": "markdown",
   "metadata": {},
   "source": [
    "#### 2. After the proof of concept works, **implement** the solution for the entire dataset"
   ]
  },
  {
   "cell_type": "markdown",
   "metadata": {},
   "source": [
    "Common error: You are trying to apply the method to a series, not a string. <br>\n"
   ]
  },
  {
   "cell_type": "code",
   "execution_count": 40,
   "metadata": {},
   "outputs": [],
   "source": [
    "df2 = df.copy()"
   ]
  },
  {
   "cell_type": "markdown",
   "metadata": {},
   "source": [
    "These are the types of exercises that increases your python skills. Why would below code not work?"
   ]
  },
  {
   "cell_type": "code",
   "execution_count": 41,
   "metadata": {},
   "outputs": [
    {
     "ename": "AttributeError",
     "evalue": "'Series' object has no attribute 'split'",
     "output_type": "error",
     "traceback": [
      "\u001b[1;31m---------------------------------------------------------------------------\u001b[0m",
      "\u001b[1;31mAttributeError\u001b[0m                            Traceback (most recent call last)",
      "\u001b[1;32m~\\AppData\\Local\\Temp\\ipykernel_7412\\2924943726.py\u001b[0m in \u001b[0;36m?\u001b[1;34m()\u001b[0m\n\u001b[1;32m----> 1\u001b[1;33m \u001b[0mdf2\u001b[0m\u001b[1;33m[\u001b[0m\u001b[1;34m'first_name'\u001b[0m\u001b[1;33m]\u001b[0m \u001b[1;33m=\u001b[0m \u001b[0mdf\u001b[0m\u001b[1;33m.\u001b[0m\u001b[0mloc\u001b[0m\u001b[1;33m[\u001b[0m\u001b[1;33m:\u001b[0m\u001b[1;33m,\u001b[0m\u001b[1;34m'Name'\u001b[0m\u001b[1;33m]\u001b[0m\u001b[1;33m.\u001b[0m\u001b[0msplit\u001b[0m\u001b[1;33m(\u001b[0m\u001b[1;34m','\u001b[0m\u001b[1;33m)\u001b[0m\u001b[1;33m[\u001b[0m\u001b[1;36m0\u001b[0m\u001b[1;33m]\u001b[0m\u001b[1;33m\u001b[0m\u001b[1;33m\u001b[0m\u001b[0m\n\u001b[0m\u001b[0;32m      2\u001b[0m \u001b[0mdf2\u001b[0m\u001b[1;33m[\u001b[0m\u001b[1;34m'last_name'\u001b[0m\u001b[1;33m]\u001b[0m \u001b[1;33m=\u001b[0m \u001b[0mdf\u001b[0m\u001b[1;33m.\u001b[0m\u001b[0mloc\u001b[0m\u001b[1;33m[\u001b[0m\u001b[1;33m:\u001b[0m\u001b[1;33m,\u001b[0m\u001b[1;34m'Name'\u001b[0m\u001b[1;33m]\u001b[0m\u001b[1;33m.\u001b[0m\u001b[0msplit\u001b[0m\u001b[1;33m(\u001b[0m\u001b[1;34m','\u001b[0m\u001b[1;33m)\u001b[0m\u001b[1;33m[\u001b[0m\u001b[1;36m1\u001b[0m\u001b[1;33m]\u001b[0m\u001b[1;33m\u001b[0m\u001b[1;33m\u001b[0m\u001b[0m\n\u001b[0;32m      3\u001b[0m \u001b[1;31m# This gives an error\u001b[0m\u001b[1;33m\u001b[0m\u001b[1;33m\u001b[0m\u001b[1;33m\u001b[0m\u001b[0m\n",
      "\u001b[1;32mc:\\Users\\g1kji\\Anaconda3\\envs\\qtm151-f24\\lib\\site-packages\\pandas\\core\\generic.py\u001b[0m in \u001b[0;36m?\u001b[1;34m(self, name)\u001b[0m\n\u001b[0;32m   5985\u001b[0m             \u001b[1;32mand\u001b[0m \u001b[0mname\u001b[0m \u001b[1;32mnot\u001b[0m \u001b[1;32min\u001b[0m \u001b[0mself\u001b[0m\u001b[1;33m.\u001b[0m\u001b[0m_accessors\u001b[0m\u001b[1;33m\u001b[0m\u001b[1;33m\u001b[0m\u001b[0m\n\u001b[0;32m   5986\u001b[0m             \u001b[1;32mand\u001b[0m \u001b[0mself\u001b[0m\u001b[1;33m.\u001b[0m\u001b[0m_info_axis\u001b[0m\u001b[1;33m.\u001b[0m\u001b[0m_can_hold_identifiers_and_holds_name\u001b[0m\u001b[1;33m(\u001b[0m\u001b[0mname\u001b[0m\u001b[1;33m)\u001b[0m\u001b[1;33m\u001b[0m\u001b[1;33m\u001b[0m\u001b[0m\n\u001b[0;32m   5987\u001b[0m         ):\n\u001b[0;32m   5988\u001b[0m             \u001b[1;32mreturn\u001b[0m \u001b[0mself\u001b[0m\u001b[1;33m[\u001b[0m\u001b[0mname\u001b[0m\u001b[1;33m]\u001b[0m\u001b[1;33m\u001b[0m\u001b[1;33m\u001b[0m\u001b[0m\n\u001b[1;32m-> 5989\u001b[1;33m         \u001b[1;32mreturn\u001b[0m \u001b[0mobject\u001b[0m\u001b[1;33m.\u001b[0m\u001b[0m__getattribute__\u001b[0m\u001b[1;33m(\u001b[0m\u001b[0mself\u001b[0m\u001b[1;33m,\u001b[0m \u001b[0mname\u001b[0m\u001b[1;33m)\u001b[0m\u001b[1;33m\u001b[0m\u001b[1;33m\u001b[0m\u001b[0m\n\u001b[0m",
      "\u001b[1;31mAttributeError\u001b[0m: 'Series' object has no attribute 'split'"
     ]
    }
   ],
   "source": [
    "df2['first_name'] = df.loc[:,'Name'].split(',')[0]\n",
    "df2['last_name'] = df.loc[:,'Name'].split(',')[1]\n",
    "# This gives an error"
   ]
  },
  {
   "cell_type": "markdown",
   "metadata": {},
   "source": [
    "Solution: You need to apply the method to each observation in the series. <br>"
   ]
  },
  {
   "cell_type": "code",
   "execution_count": null,
   "metadata": {},
   "outputs": [
    {
     "data": {
      "application/vnd.microsoft.datawrangler.viewer.v0+json": {
       "columns": [
        {
         "name": "index",
         "rawType": "int64",
         "type": "integer"
        },
        {
         "name": "Notify",
         "rawType": "float64",
         "type": "float"
        },
        {
         "name": "ID",
         "rawType": "int64",
         "type": "integer"
        },
        {
         "name": "Name",
         "rawType": "object",
         "type": "string"
        },
        {
         "name": "Grade Basis",
         "rawType": "object",
         "type": "string"
        },
        {
         "name": "Units",
         "rawType": "int64",
         "type": "integer"
        },
        {
         "name": "Program and Plan",
         "rawType": "object",
         "type": "string"
        },
        {
         "name": "Level",
         "rawType": "object",
         "type": "string"
        },
        {
         "name": "first_name",
         "rawType": "object",
         "type": "string"
        },
        {
         "name": "last_name",
         "rawType": "object",
         "type": "string"
        }
       ],
       "conversionMethod": "pd.DataFrame",
       "ref": "2da5f4df-df78-4408-9d9f-e5655e746363",
       "rows": [
        [
         "0",
         null,
         "2554542",
         "Adeola,Isabella Olutoyin (she/her/hers)",
         "Graded",
         "2",
         "Liberal Arts & Sciences - Quantitative Sciences BS/English Minor",
         "Junior",
         "Adeola",
         "Isabella Olutoyin (she/her/hers)"
        ],
        [
         "1",
         null,
         "2554565",
         "Alshekhlee,Zina (she/her/hers)",
         "Graded",
         "2",
         "Liberal Arts & Sciences - Psychology BA/Quantitative Sciences ND",
         "Senior",
         "Alshekhlee",
         "Zina (she/her/hers)"
        ],
        [
         "2",
         null,
         "2630943",
         "Arora,Advitya",
         "Graded",
         "2",
         "Liberal Arts & Sciences - Undeclared - Arts & Sciences",
         "Sophomore",
         "Arora",
         "Advitya"
        ],
        [
         "3",
         null,
         "2540470",
         "Bayyigit,Onur (he/him/his)",
         "Graded",
         "2",
         "Liberal Arts & Sciences - Quantitative Sciences BS",
         "Junior",
         "Bayyigit",
         "Onur (he/him/his)"
        ],
        [
         "4",
         null,
         "2671403",
         "Bell Jr.,Wallace (he/him/his)",
         "Graded",
         "2",
         "Liberal Arts & Sciences - Undeclared - Arts & Sciences",
         "Freshman",
         "Bell Jr.",
         "Wallace (he/him/his)"
        ]
       ],
       "shape": {
        "columns": 9,
        "rows": 5
       }
      },
      "text/html": [
       "<div>\n",
       "<style scoped>\n",
       "    .dataframe tbody tr th:only-of-type {\n",
       "        vertical-align: middle;\n",
       "    }\n",
       "\n",
       "    .dataframe tbody tr th {\n",
       "        vertical-align: top;\n",
       "    }\n",
       "\n",
       "    .dataframe thead th {\n",
       "        text-align: right;\n",
       "    }\n",
       "</style>\n",
       "<table border=\"1\" class=\"dataframe\">\n",
       "  <thead>\n",
       "    <tr style=\"text-align: right;\">\n",
       "      <th></th>\n",
       "      <th>Notify</th>\n",
       "      <th>ID</th>\n",
       "      <th>Name</th>\n",
       "      <th>Grade Basis</th>\n",
       "      <th>Units</th>\n",
       "      <th>Program and Plan</th>\n",
       "      <th>Level</th>\n",
       "      <th>first_name</th>\n",
       "      <th>last_name</th>\n",
       "    </tr>\n",
       "  </thead>\n",
       "  <tbody>\n",
       "    <tr>\n",
       "      <th>0</th>\n",
       "      <td>NaN</td>\n",
       "      <td>2554542</td>\n",
       "      <td>Adeola,Isabella Olutoyin (she/her/hers)</td>\n",
       "      <td>Graded</td>\n",
       "      <td>2</td>\n",
       "      <td>Liberal Arts &amp; Sciences - Quantitative Science...</td>\n",
       "      <td>Junior</td>\n",
       "      <td>Adeola</td>\n",
       "      <td>Isabella Olutoyin (she/her/hers)</td>\n",
       "    </tr>\n",
       "    <tr>\n",
       "      <th>1</th>\n",
       "      <td>NaN</td>\n",
       "      <td>2554565</td>\n",
       "      <td>Alshekhlee,Zina (she/her/hers)</td>\n",
       "      <td>Graded</td>\n",
       "      <td>2</td>\n",
       "      <td>Liberal Arts &amp; Sciences - Psychology BA/Quanti...</td>\n",
       "      <td>Senior</td>\n",
       "      <td>Alshekhlee</td>\n",
       "      <td>Zina (she/her/hers)</td>\n",
       "    </tr>\n",
       "    <tr>\n",
       "      <th>2</th>\n",
       "      <td>NaN</td>\n",
       "      <td>2630943</td>\n",
       "      <td>Arora,Advitya</td>\n",
       "      <td>Graded</td>\n",
       "      <td>2</td>\n",
       "      <td>Liberal Arts &amp; Sciences - Undeclared - Arts &amp; ...</td>\n",
       "      <td>Sophomore</td>\n",
       "      <td>Arora</td>\n",
       "      <td>Advitya</td>\n",
       "    </tr>\n",
       "    <tr>\n",
       "      <th>3</th>\n",
       "      <td>NaN</td>\n",
       "      <td>2540470</td>\n",
       "      <td>Bayyigit,Onur (he/him/his)</td>\n",
       "      <td>Graded</td>\n",
       "      <td>2</td>\n",
       "      <td>Liberal Arts &amp; Sciences - Quantitative Science...</td>\n",
       "      <td>Junior</td>\n",
       "      <td>Bayyigit</td>\n",
       "      <td>Onur (he/him/his)</td>\n",
       "    </tr>\n",
       "    <tr>\n",
       "      <th>4</th>\n",
       "      <td>NaN</td>\n",
       "      <td>2671403</td>\n",
       "      <td>Bell Jr.,Wallace (he/him/his)</td>\n",
       "      <td>Graded</td>\n",
       "      <td>2</td>\n",
       "      <td>Liberal Arts &amp; Sciences - Undeclared - Arts &amp; ...</td>\n",
       "      <td>Freshman</td>\n",
       "      <td>Bell Jr.</td>\n",
       "      <td>Wallace (he/him/his)</td>\n",
       "    </tr>\n",
       "  </tbody>\n",
       "</table>\n",
       "</div>"
      ],
      "text/plain": [
       "   Notify       ID                                     Name Grade Basis  \\\n",
       "0     NaN  2554542  Adeola,Isabella Olutoyin (she/her/hers)      Graded   \n",
       "1     NaN  2554565           Alshekhlee,Zina (she/her/hers)      Graded   \n",
       "2     NaN  2630943                            Arora,Advitya      Graded   \n",
       "3     NaN  2540470               Bayyigit,Onur (he/him/his)      Graded   \n",
       "4     NaN  2671403            Bell Jr.,Wallace (he/him/his)      Graded   \n",
       "\n",
       "   Units                                   Program and Plan      Level  \\\n",
       "0      2  Liberal Arts & Sciences - Quantitative Science...     Junior   \n",
       "1      2  Liberal Arts & Sciences - Psychology BA/Quanti...     Senior   \n",
       "2      2  Liberal Arts & Sciences - Undeclared - Arts & ...  Sophomore   \n",
       "3      2  Liberal Arts & Sciences - Quantitative Science...     Junior   \n",
       "4      2  Liberal Arts & Sciences - Undeclared - Arts & ...   Freshman   \n",
       "\n",
       "   first_name                         last_name  \n",
       "0      Adeola  Isabella Olutoyin (she/her/hers)  \n",
       "1  Alshekhlee               Zina (she/her/hers)  \n",
       "2       Arora                           Advitya  \n",
       "3    Bayyigit                 Onur (he/him/his)  \n",
       "4    Bell Jr.              Wallace (he/him/his)  "
      ]
     },
     "execution_count": 37,
     "metadata": {},
     "output_type": "execute_result"
    }
   ],
   "source": [
    "# call each element (string) of the pandas series to apply .split method\n",
    "\n",
    "df2['first_name'] = [x.split(',')[0] for x in df.loc[:,'Name']]\n",
    "df2['last_name'] = [x.split(',')[1] for x in df.loc[:,'Name']]\n",
    "\n",
    "df2.head()"
   ]
  },
  {
   "cell_type": "code",
   "execution_count": 42,
   "metadata": {},
   "outputs": [
    {
     "data": {
      "application/vnd.microsoft.datawrangler.viewer.v0+json": {
       "columns": [
        {
         "name": "index",
         "rawType": "int64",
         "type": "integer"
        },
        {
         "name": "Notify",
         "rawType": "float64",
         "type": "float"
        },
        {
         "name": "ID",
         "rawType": "int64",
         "type": "integer"
        },
        {
         "name": "Name",
         "rawType": "object",
         "type": "string"
        },
        {
         "name": "Grade Basis",
         "rawType": "object",
         "type": "string"
        },
        {
         "name": "Units",
         "rawType": "int64",
         "type": "integer"
        },
        {
         "name": "Program and Plan",
         "rawType": "object",
         "type": "string"
        },
        {
         "name": "Level",
         "rawType": "object",
         "type": "string"
        },
        {
         "name": "first_name",
         "rawType": "object",
         "type": "string"
        },
        {
         "name": "last_name",
         "rawType": "object",
         "type": "string"
        }
       ],
       "conversionMethod": "pd.DataFrame",
       "ref": "f5387067-0bde-4f22-b377-d3f934984e13",
       "rows": [
        [
         "0",
         null,
         "2554542",
         "Adeola,Isabella Olutoyin (she/her/hers)",
         "Graded",
         "2",
         "Liberal Arts & Sciences - Quantitative Sciences BS/English Minor",
         "Junior",
         "Adeola",
         "Isabella Olutoyin (she/her/hers)"
        ],
        [
         "1",
         null,
         "2554565",
         "Alshekhlee,Zina (she/her/hers)",
         "Graded",
         "2",
         "Liberal Arts & Sciences - Psychology BA/Quantitative Sciences ND",
         "Senior",
         "Alshekhlee",
         "Zina (she/her/hers)"
        ],
        [
         "2",
         null,
         "2630943",
         "Arora,Advitya",
         "Graded",
         "2",
         "Liberal Arts & Sciences - Undeclared - Arts & Sciences",
         "Sophomore",
         "Arora",
         "Advitya"
        ],
        [
         "3",
         null,
         "2540470",
         "Bayyigit,Onur (he/him/his)",
         "Graded",
         "2",
         "Liberal Arts & Sciences - Quantitative Sciences BS",
         "Junior",
         "Bayyigit",
         "Onur (he/him/his)"
        ],
        [
         "4",
         null,
         "2671403",
         "Bell Jr.,Wallace (he/him/his)",
         "Graded",
         "2",
         "Liberal Arts & Sciences - Undeclared - Arts & Sciences",
         "Freshman",
         "Bell Jr.",
         "Wallace (he/him/his)"
        ]
       ],
       "shape": {
        "columns": 9,
        "rows": 5
       }
      },
      "text/html": [
       "<div>\n",
       "<style scoped>\n",
       "    .dataframe tbody tr th:only-of-type {\n",
       "        vertical-align: middle;\n",
       "    }\n",
       "\n",
       "    .dataframe tbody tr th {\n",
       "        vertical-align: top;\n",
       "    }\n",
       "\n",
       "    .dataframe thead th {\n",
       "        text-align: right;\n",
       "    }\n",
       "</style>\n",
       "<table border=\"1\" class=\"dataframe\">\n",
       "  <thead>\n",
       "    <tr style=\"text-align: right;\">\n",
       "      <th></th>\n",
       "      <th>Notify</th>\n",
       "      <th>ID</th>\n",
       "      <th>Name</th>\n",
       "      <th>Grade Basis</th>\n",
       "      <th>Units</th>\n",
       "      <th>Program and Plan</th>\n",
       "      <th>Level</th>\n",
       "      <th>first_name</th>\n",
       "      <th>last_name</th>\n",
       "    </tr>\n",
       "  </thead>\n",
       "  <tbody>\n",
       "    <tr>\n",
       "      <th>0</th>\n",
       "      <td>NaN</td>\n",
       "      <td>2554542</td>\n",
       "      <td>Adeola,Isabella Olutoyin (she/her/hers)</td>\n",
       "      <td>Graded</td>\n",
       "      <td>2</td>\n",
       "      <td>Liberal Arts &amp; Sciences - Quantitative Science...</td>\n",
       "      <td>Junior</td>\n",
       "      <td>Adeola</td>\n",
       "      <td>Isabella Olutoyin (she/her/hers)</td>\n",
       "    </tr>\n",
       "    <tr>\n",
       "      <th>1</th>\n",
       "      <td>NaN</td>\n",
       "      <td>2554565</td>\n",
       "      <td>Alshekhlee,Zina (she/her/hers)</td>\n",
       "      <td>Graded</td>\n",
       "      <td>2</td>\n",
       "      <td>Liberal Arts &amp; Sciences - Psychology BA/Quanti...</td>\n",
       "      <td>Senior</td>\n",
       "      <td>Alshekhlee</td>\n",
       "      <td>Zina (she/her/hers)</td>\n",
       "    </tr>\n",
       "    <tr>\n",
       "      <th>2</th>\n",
       "      <td>NaN</td>\n",
       "      <td>2630943</td>\n",
       "      <td>Arora,Advitya</td>\n",
       "      <td>Graded</td>\n",
       "      <td>2</td>\n",
       "      <td>Liberal Arts &amp; Sciences - Undeclared - Arts &amp; ...</td>\n",
       "      <td>Sophomore</td>\n",
       "      <td>Arora</td>\n",
       "      <td>Advitya</td>\n",
       "    </tr>\n",
       "    <tr>\n",
       "      <th>3</th>\n",
       "      <td>NaN</td>\n",
       "      <td>2540470</td>\n",
       "      <td>Bayyigit,Onur (he/him/his)</td>\n",
       "      <td>Graded</td>\n",
       "      <td>2</td>\n",
       "      <td>Liberal Arts &amp; Sciences - Quantitative Science...</td>\n",
       "      <td>Junior</td>\n",
       "      <td>Bayyigit</td>\n",
       "      <td>Onur (he/him/his)</td>\n",
       "    </tr>\n",
       "    <tr>\n",
       "      <th>4</th>\n",
       "      <td>NaN</td>\n",
       "      <td>2671403</td>\n",
       "      <td>Bell Jr.,Wallace (he/him/his)</td>\n",
       "      <td>Graded</td>\n",
       "      <td>2</td>\n",
       "      <td>Liberal Arts &amp; Sciences - Undeclared - Arts &amp; ...</td>\n",
       "      <td>Freshman</td>\n",
       "      <td>Bell Jr.</td>\n",
       "      <td>Wallace (he/him/his)</td>\n",
       "    </tr>\n",
       "  </tbody>\n",
       "</table>\n",
       "</div>"
      ],
      "text/plain": [
       "   Notify       ID                                     Name Grade Basis  \\\n",
       "0     NaN  2554542  Adeola,Isabella Olutoyin (she/her/hers)      Graded   \n",
       "1     NaN  2554565           Alshekhlee,Zina (she/her/hers)      Graded   \n",
       "2     NaN  2630943                            Arora,Advitya      Graded   \n",
       "3     NaN  2540470               Bayyigit,Onur (he/him/his)      Graded   \n",
       "4     NaN  2671403            Bell Jr.,Wallace (he/him/his)      Graded   \n",
       "\n",
       "   Units                                   Program and Plan      Level  \\\n",
       "0      2  Liberal Arts & Sciences - Quantitative Science...     Junior   \n",
       "1      2  Liberal Arts & Sciences - Psychology BA/Quanti...     Senior   \n",
       "2      2  Liberal Arts & Sciences - Undeclared - Arts & ...  Sophomore   \n",
       "3      2  Liberal Arts & Sciences - Quantitative Science...     Junior   \n",
       "4      2  Liberal Arts & Sciences - Undeclared - Arts & ...   Freshman   \n",
       "\n",
       "   first_name                         last_name  \n",
       "0      Adeola  Isabella Olutoyin (she/her/hers)  \n",
       "1  Alshekhlee               Zina (she/her/hers)  \n",
       "2       Arora                           Advitya  \n",
       "3    Bayyigit                 Onur (he/him/his)  \n",
       "4    Bell Jr.              Wallace (he/him/his)  "
      ]
     },
     "execution_count": 42,
     "metadata": {},
     "output_type": "execute_result"
    }
   ],
   "source": [
    "# This is the same code:\n",
    "for i in range(len(df2)):\n",
    "    df2.loc[i, 'first_name'] = df2['Name'][i].split(',')[0]\n",
    "    df2.loc[i, 'last_name'] = df2['Name'][i].split(',')[1]\n",
    "\n",
    "df2.head()"
   ]
  },
  {
   "cell_type": "markdown",
   "metadata": {},
   "source": [
    "These types of exercises increase your python skills. Explain why below code works."
   ]
  },
  {
   "cell_type": "code",
   "execution_count": null,
   "metadata": {},
   "outputs": [
    {
     "data": {
      "application/vnd.microsoft.datawrangler.viewer.v0+json": {
       "columns": [
        {
         "name": "index",
         "rawType": "int64",
         "type": "integer"
        },
        {
         "name": "Notify",
         "rawType": "float64",
         "type": "float"
        },
        {
         "name": "ID",
         "rawType": "int64",
         "type": "integer"
        },
        {
         "name": "Name",
         "rawType": "object",
         "type": "string"
        },
        {
         "name": "Grade Basis",
         "rawType": "object",
         "type": "string"
        },
        {
         "name": "Units",
         "rawType": "int64",
         "type": "integer"
        },
        {
         "name": "Program and Plan",
         "rawType": "object",
         "type": "string"
        },
        {
         "name": "Level",
         "rawType": "object",
         "type": "string"
        },
        {
         "name": "first_name",
         "rawType": "object",
         "type": "string"
        },
        {
         "name": "last_name",
         "rawType": "object",
         "type": "string"
        }
       ],
       "conversionMethod": "pd.DataFrame",
       "ref": "935a5266-8c5c-4043-9211-921a80b7212a",
       "rows": [
        [
         "0",
         null,
         "2554542",
         "Adeola,Isabella Olutoyin (she/her/hers)",
         "Graded",
         "2",
         "Liberal Arts & Sciences - Quantitative Sciences BS/English Minor",
         "Junior",
         "Adeola",
         "Isabella Olutoyin (she/her/hers)"
        ],
        [
         "1",
         null,
         "2554565",
         "Alshekhlee,Zina (she/her/hers)",
         "Graded",
         "2",
         "Liberal Arts & Sciences - Psychology BA/Quantitative Sciences ND",
         "Senior",
         "Alshekhlee",
         "Zina (she/her/hers)"
        ],
        [
         "2",
         null,
         "2630943",
         "Arora,Advitya",
         "Graded",
         "2",
         "Liberal Arts & Sciences - Undeclared - Arts & Sciences",
         "Sophomore",
         "Arora",
         "Advitya"
        ],
        [
         "3",
         null,
         "2540470",
         "Bayyigit,Onur (he/him/his)",
         "Graded",
         "2",
         "Liberal Arts & Sciences - Quantitative Sciences BS",
         "Junior",
         "Bayyigit",
         "Onur (he/him/his)"
        ],
        [
         "4",
         null,
         "2671403",
         "Bell Jr.,Wallace (he/him/his)",
         "Graded",
         "2",
         "Liberal Arts & Sciences - Undeclared - Arts & Sciences",
         "Freshman",
         "Bell Jr.",
         "Wallace (he/him/his)"
        ]
       ],
       "shape": {
        "columns": 9,
        "rows": 5
       }
      },
      "text/html": [
       "<div>\n",
       "<style scoped>\n",
       "    .dataframe tbody tr th:only-of-type {\n",
       "        vertical-align: middle;\n",
       "    }\n",
       "\n",
       "    .dataframe tbody tr th {\n",
       "        vertical-align: top;\n",
       "    }\n",
       "\n",
       "    .dataframe thead th {\n",
       "        text-align: right;\n",
       "    }\n",
       "</style>\n",
       "<table border=\"1\" class=\"dataframe\">\n",
       "  <thead>\n",
       "    <tr style=\"text-align: right;\">\n",
       "      <th></th>\n",
       "      <th>Notify</th>\n",
       "      <th>ID</th>\n",
       "      <th>Name</th>\n",
       "      <th>Grade Basis</th>\n",
       "      <th>Units</th>\n",
       "      <th>Program and Plan</th>\n",
       "      <th>Level</th>\n",
       "      <th>first_name</th>\n",
       "      <th>last_name</th>\n",
       "    </tr>\n",
       "  </thead>\n",
       "  <tbody>\n",
       "    <tr>\n",
       "      <th>0</th>\n",
       "      <td>NaN</td>\n",
       "      <td>2554542</td>\n",
       "      <td>Adeola,Isabella Olutoyin (she/her/hers)</td>\n",
       "      <td>Graded</td>\n",
       "      <td>2</td>\n",
       "      <td>Liberal Arts &amp; Sciences - Quantitative Science...</td>\n",
       "      <td>Junior</td>\n",
       "      <td>Adeola</td>\n",
       "      <td>Isabella Olutoyin (she/her/hers)</td>\n",
       "    </tr>\n",
       "    <tr>\n",
       "      <th>1</th>\n",
       "      <td>NaN</td>\n",
       "      <td>2554565</td>\n",
       "      <td>Alshekhlee,Zina (she/her/hers)</td>\n",
       "      <td>Graded</td>\n",
       "      <td>2</td>\n",
       "      <td>Liberal Arts &amp; Sciences - Psychology BA/Quanti...</td>\n",
       "      <td>Senior</td>\n",
       "      <td>Alshekhlee</td>\n",
       "      <td>Zina (she/her/hers)</td>\n",
       "    </tr>\n",
       "    <tr>\n",
       "      <th>2</th>\n",
       "      <td>NaN</td>\n",
       "      <td>2630943</td>\n",
       "      <td>Arora,Advitya</td>\n",
       "      <td>Graded</td>\n",
       "      <td>2</td>\n",
       "      <td>Liberal Arts &amp; Sciences - Undeclared - Arts &amp; ...</td>\n",
       "      <td>Sophomore</td>\n",
       "      <td>Arora</td>\n",
       "      <td>Advitya</td>\n",
       "    </tr>\n",
       "    <tr>\n",
       "      <th>3</th>\n",
       "      <td>NaN</td>\n",
       "      <td>2540470</td>\n",
       "      <td>Bayyigit,Onur (he/him/his)</td>\n",
       "      <td>Graded</td>\n",
       "      <td>2</td>\n",
       "      <td>Liberal Arts &amp; Sciences - Quantitative Science...</td>\n",
       "      <td>Junior</td>\n",
       "      <td>Bayyigit</td>\n",
       "      <td>Onur (he/him/his)</td>\n",
       "    </tr>\n",
       "    <tr>\n",
       "      <th>4</th>\n",
       "      <td>NaN</td>\n",
       "      <td>2671403</td>\n",
       "      <td>Bell Jr.,Wallace (he/him/his)</td>\n",
       "      <td>Graded</td>\n",
       "      <td>2</td>\n",
       "      <td>Liberal Arts &amp; Sciences - Undeclared - Arts &amp; ...</td>\n",
       "      <td>Freshman</td>\n",
       "      <td>Bell Jr.</td>\n",
       "      <td>Wallace (he/him/his)</td>\n",
       "    </tr>\n",
       "  </tbody>\n",
       "</table>\n",
       "</div>"
      ],
      "text/plain": [
       "   Notify       ID                                     Name Grade Basis  \\\n",
       "0     NaN  2554542  Adeola,Isabella Olutoyin (she/her/hers)      Graded   \n",
       "1     NaN  2554565           Alshekhlee,Zina (she/her/hers)      Graded   \n",
       "2     NaN  2630943                            Arora,Advitya      Graded   \n",
       "3     NaN  2540470               Bayyigit,Onur (he/him/his)      Graded   \n",
       "4     NaN  2671403            Bell Jr.,Wallace (he/him/his)      Graded   \n",
       "\n",
       "   Units                                   Program and Plan      Level  \\\n",
       "0      2  Liberal Arts & Sciences - Quantitative Science...     Junior   \n",
       "1      2  Liberal Arts & Sciences - Psychology BA/Quanti...     Senior   \n",
       "2      2  Liberal Arts & Sciences - Undeclared - Arts & ...  Sophomore   \n",
       "3      2  Liberal Arts & Sciences - Quantitative Science...     Junior   \n",
       "4      2  Liberal Arts & Sciences - Undeclared - Arts & ...   Freshman   \n",
       "\n",
       "   first_name                         last_name  \n",
       "0      Adeola  Isabella Olutoyin (she/her/hers)  \n",
       "1  Alshekhlee               Zina (she/her/hers)  \n",
       "2       Arora                           Advitya  \n",
       "3    Bayyigit                 Onur (he/him/his)  \n",
       "4    Bell Jr.              Wallace (he/him/his)  "
      ]
     },
     "execution_count": 39,
     "metadata": {},
     "output_type": "execute_result"
    }
   ],
   "source": [
    "# Another solution using pandas apply and lambda.\n",
    "# See why this works the same way as for loop:\n",
    "# But first, try to explain.\n",
    "# [Link](https://pandas.pydata.org/docs/reference/api/pandas.DataFrame.apply.html) \n",
    "\n",
    "df2['first_name'] = df['Name'].apply(lambda x: x.split(',')[0])\n",
    "df2['last_name'] = df['Name'].apply(lambda x: x.split(',')[1])\n",
    "df2.head()"
   ]
  },
  {
   "cell_type": "markdown",
   "metadata": {},
   "source": [
    "Q: What other code would work? Try a proof of concept and implement it over the whole dataset. <br><br>\n",
    "<p align = \"center\">\n",
    "<img src = \"figures/thinker.jfif\">"
   ]
  },
  {
   "cell_type": "markdown",
   "metadata": {},
   "source": [
    "#### 3. Other wrong answers that are worth breaking down: <br>"
   ]
  },
  {
   "cell_type": "code",
   "execution_count": null,
   "metadata": {},
   "outputs": [
    {
     "ename": "AttributeError",
     "evalue": "'Series' object has no attribute 'split'",
     "output_type": "error",
     "traceback": [
      "\u001b[1;31m---------------------------------------------------------------------------\u001b[0m",
      "\u001b[1;31mAttributeError\u001b[0m                            Traceback (most recent call last)",
      "\u001b[1;32m~\\AppData\\Local\\Temp\\ipykernel_5992\\2924943726.py\u001b[0m in \u001b[0;36m?\u001b[1;34m()\u001b[0m\n\u001b[1;32m----> 1\u001b[1;33m \u001b[0mdf2\u001b[0m\u001b[1;33m[\u001b[0m\u001b[1;34m'first_name'\u001b[0m\u001b[1;33m]\u001b[0m \u001b[1;33m=\u001b[0m \u001b[0mdf\u001b[0m\u001b[1;33m.\u001b[0m\u001b[0mloc\u001b[0m\u001b[1;33m[\u001b[0m\u001b[1;33m:\u001b[0m\u001b[1;33m,\u001b[0m\u001b[1;34m'Name'\u001b[0m\u001b[1;33m]\u001b[0m\u001b[1;33m.\u001b[0m\u001b[0msplit\u001b[0m\u001b[1;33m(\u001b[0m\u001b[1;34m','\u001b[0m\u001b[1;33m)\u001b[0m\u001b[1;33m[\u001b[0m\u001b[1;36m0\u001b[0m\u001b[1;33m]\u001b[0m\u001b[1;33m\u001b[0m\u001b[1;33m\u001b[0m\u001b[0m\n\u001b[0m\u001b[0;32m      2\u001b[0m \u001b[0mdf2\u001b[0m\u001b[1;33m[\u001b[0m\u001b[1;34m'last_name'\u001b[0m\u001b[1;33m]\u001b[0m \u001b[1;33m=\u001b[0m \u001b[0mdf\u001b[0m\u001b[1;33m.\u001b[0m\u001b[0mloc\u001b[0m\u001b[1;33m[\u001b[0m\u001b[1;33m:\u001b[0m\u001b[1;33m,\u001b[0m\u001b[1;34m'Name'\u001b[0m\u001b[1;33m]\u001b[0m\u001b[1;33m.\u001b[0m\u001b[0msplit\u001b[0m\u001b[1;33m(\u001b[0m\u001b[1;34m','\u001b[0m\u001b[1;33m)\u001b[0m\u001b[1;33m[\u001b[0m\u001b[1;36m1\u001b[0m\u001b[1;33m]\u001b[0m\u001b[1;33m\u001b[0m\u001b[1;33m\u001b[0m\u001b[0m\n\u001b[0;32m      3\u001b[0m \u001b[1;31m# This gives an error\u001b[0m\u001b[1;33m\u001b[0m\u001b[1;33m\u001b[0m\u001b[1;33m\u001b[0m\u001b[0m\n",
      "\u001b[1;32mc:\\Users\\g1kji\\Anaconda3\\envs\\qtm151-f24\\lib\\site-packages\\pandas\\core\\generic.py\u001b[0m in \u001b[0;36m?\u001b[1;34m(self, name)\u001b[0m\n\u001b[0;32m   5985\u001b[0m             \u001b[1;32mand\u001b[0m \u001b[0mname\u001b[0m \u001b[1;32mnot\u001b[0m \u001b[1;32min\u001b[0m \u001b[0mself\u001b[0m\u001b[1;33m.\u001b[0m\u001b[0m_accessors\u001b[0m\u001b[1;33m\u001b[0m\u001b[1;33m\u001b[0m\u001b[0m\n\u001b[0;32m   5986\u001b[0m             \u001b[1;32mand\u001b[0m \u001b[0mself\u001b[0m\u001b[1;33m.\u001b[0m\u001b[0m_info_axis\u001b[0m\u001b[1;33m.\u001b[0m\u001b[0m_can_hold_identifiers_and_holds_name\u001b[0m\u001b[1;33m(\u001b[0m\u001b[0mname\u001b[0m\u001b[1;33m)\u001b[0m\u001b[1;33m\u001b[0m\u001b[1;33m\u001b[0m\u001b[0m\n\u001b[0;32m   5987\u001b[0m         ):\n\u001b[0;32m   5988\u001b[0m             \u001b[1;32mreturn\u001b[0m \u001b[0mself\u001b[0m\u001b[1;33m[\u001b[0m\u001b[0mname\u001b[0m\u001b[1;33m]\u001b[0m\u001b[1;33m\u001b[0m\u001b[1;33m\u001b[0m\u001b[0m\n\u001b[1;32m-> 5989\u001b[1;33m         \u001b[1;32mreturn\u001b[0m \u001b[0mobject\u001b[0m\u001b[1;33m.\u001b[0m\u001b[0m__getattribute__\u001b[0m\u001b[1;33m(\u001b[0m\u001b[0mself\u001b[0m\u001b[1;33m,\u001b[0m \u001b[0mname\u001b[0m\u001b[1;33m)\u001b[0m\u001b[1;33m\u001b[0m\u001b[1;33m\u001b[0m\u001b[0m\n\u001b[0m",
      "\u001b[1;31mAttributeError\u001b[0m: 'Series' object has no attribute 'split'"
     ]
    }
   ],
   "source": [
    "# This doesn't solve the problem we mentioned, so it's not a good solution.\n",
    "df2['first_name'] = df.loc[:,'Name'].split(',')[0]\n",
    "df2['last_name'] = df.loc[:,'Name'].split(',')[1]"
   ]
  },
  {
   "cell_type": "code",
   "execution_count": 25,
   "metadata": {},
   "outputs": [],
   "source": [
    "df2['first_name'] = str(df['Name']).split(',')[0]\n",
    "df2['last_name'] = str(df['Name']).split(',')[1]\n",
    "\n",
    "# Although it runs..."
   ]
  },
  {
   "cell_type": "code",
   "execution_count": 26,
   "metadata": {},
   "outputs": [
    {
     "data": {
      "application/vnd.microsoft.datawrangler.viewer.v0+json": {
       "columns": [
        {
         "name": "index",
         "rawType": "int64",
         "type": "integer"
        },
        {
         "name": "Notify",
         "rawType": "float64",
         "type": "float"
        },
        {
         "name": "ID",
         "rawType": "int64",
         "type": "integer"
        },
        {
         "name": "Name",
         "rawType": "object",
         "type": "string"
        },
        {
         "name": "Grade Basis",
         "rawType": "object",
         "type": "string"
        },
        {
         "name": "Units",
         "rawType": "int64",
         "type": "integer"
        },
        {
         "name": "Program and Plan",
         "rawType": "object",
         "type": "string"
        },
        {
         "name": "Level",
         "rawType": "object",
         "type": "string"
        },
        {
         "name": "first_name",
         "rawType": "object",
         "type": "string"
        },
        {
         "name": "last_name",
         "rawType": "object",
         "type": "string"
        }
       ],
       "conversionMethod": "pd.DataFrame",
       "ref": "277cde6c-f711-4e8d-af75-f0cb52669746",
       "rows": [
        [
         "0",
         null,
         "2554542",
         "Adeola,Isabella Olutoyin (she/her/hers)",
         "Graded",
         "2",
         "Liberal Arts & Sciences - Quantitative Sciences BS/English Minor",
         "Junior",
         "0     Adeola",
         "Isabella Olutoyin (she/her/hers)\n1              Alshekhlee"
        ],
        [
         "1",
         null,
         "2554565",
         "Alshekhlee,Zina (she/her/hers)",
         "Graded",
         "2",
         "Liberal Arts & Sciences - Psychology BA/Quantitative Sciences ND",
         "Senior",
         "0     Adeola",
         "Isabella Olutoyin (she/her/hers)\n1              Alshekhlee"
        ],
        [
         "2",
         null,
         "2630943",
         "Arora,Advitya",
         "Graded",
         "2",
         "Liberal Arts & Sciences - Undeclared - Arts & Sciences",
         "Sophomore",
         "0     Adeola",
         "Isabella Olutoyin (she/her/hers)\n1              Alshekhlee"
        ],
        [
         "3",
         null,
         "2540470",
         "Bayyigit,Onur (he/him/his)",
         "Graded",
         "2",
         "Liberal Arts & Sciences - Quantitative Sciences BS",
         "Junior",
         "0     Adeola",
         "Isabella Olutoyin (she/her/hers)\n1              Alshekhlee"
        ],
        [
         "4",
         null,
         "2671403",
         "Bell Jr.,Wallace (he/him/his)",
         "Graded",
         "2",
         "Liberal Arts & Sciences - Undeclared - Arts & Sciences",
         "Freshman",
         "0     Adeola",
         "Isabella Olutoyin (she/her/hers)\n1              Alshekhlee"
        ],
        [
         "5",
         null,
         "2550484",
         "Belykh,Max",
         "Graded",
         "2",
         "Liberal Arts & Sciences - Economics BA",
         "Junior",
         "0     Adeola",
         "Isabella Olutoyin (she/her/hers)\n1              Alshekhlee"
        ],
        [
         "6",
         null,
         "2492303",
         "Bhatia,Kush (he/him/his)",
         "Graded",
         "2",
         "Bachelor of Business Admin - Business Administration/Quantitative Sciences",
         "Senior",
         "0     Adeola",
         "Isabella Olutoyin (she/her/hers)\n1              Alshekhlee"
        ],
        [
         "7",
         null,
         "2486624",
         "Braverman,Charlie Cody (he/him/his)",
         "Graded",
         "2",
         "Liberal Arts & Sciences - Economics BA/Quantitative Sciences Minor",
         "Senior",
         "0     Adeola",
         "Isabella Olutoyin (she/her/hers)\n1              Alshekhlee"
        ],
        [
         "8",
         null,
         "2696966",
         "Brodsky,Sammy (he/him/his)",
         "Graded",
         "2",
         "Liberal Arts & Sciences - Undeclared - Arts & Sciences/Film and Media Minor",
         "Freshman",
         "0     Adeola",
         "Isabella Olutoyin (she/her/hers)\n1              Alshekhlee"
        ],
        [
         "9",
         null,
         "2675122",
         "Cao,Edward",
         "Graded",
         "2",
         "Liberal Arts & Sciences - Undeclared - Arts & Sciences",
         "Freshman",
         "0     Adeola",
         "Isabella Olutoyin (she/her/hers)\n1              Alshekhlee"
        ]
       ],
       "shape": {
        "columns": 9,
        "rows": 10
       }
      },
      "text/html": [
       "<div>\n",
       "<style scoped>\n",
       "    .dataframe tbody tr th:only-of-type {\n",
       "        vertical-align: middle;\n",
       "    }\n",
       "\n",
       "    .dataframe tbody tr th {\n",
       "        vertical-align: top;\n",
       "    }\n",
       "\n",
       "    .dataframe thead th {\n",
       "        text-align: right;\n",
       "    }\n",
       "</style>\n",
       "<table border=\"1\" class=\"dataframe\">\n",
       "  <thead>\n",
       "    <tr style=\"text-align: right;\">\n",
       "      <th></th>\n",
       "      <th>Notify</th>\n",
       "      <th>ID</th>\n",
       "      <th>Name</th>\n",
       "      <th>Grade Basis</th>\n",
       "      <th>Units</th>\n",
       "      <th>Program and Plan</th>\n",
       "      <th>Level</th>\n",
       "      <th>first_name</th>\n",
       "      <th>last_name</th>\n",
       "    </tr>\n",
       "  </thead>\n",
       "  <tbody>\n",
       "    <tr>\n",
       "      <th>0</th>\n",
       "      <td>NaN</td>\n",
       "      <td>2554542</td>\n",
       "      <td>Adeola,Isabella Olutoyin (she/her/hers)</td>\n",
       "      <td>Graded</td>\n",
       "      <td>2</td>\n",
       "      <td>Liberal Arts &amp; Sciences - Quantitative Science...</td>\n",
       "      <td>Junior</td>\n",
       "      <td>0     Adeola</td>\n",
       "      <td>Isabella Olutoyin (she/her/hers)\\n1           ...</td>\n",
       "    </tr>\n",
       "    <tr>\n",
       "      <th>1</th>\n",
       "      <td>NaN</td>\n",
       "      <td>2554565</td>\n",
       "      <td>Alshekhlee,Zina (she/her/hers)</td>\n",
       "      <td>Graded</td>\n",
       "      <td>2</td>\n",
       "      <td>Liberal Arts &amp; Sciences - Psychology BA/Quanti...</td>\n",
       "      <td>Senior</td>\n",
       "      <td>0     Adeola</td>\n",
       "      <td>Isabella Olutoyin (she/her/hers)\\n1           ...</td>\n",
       "    </tr>\n",
       "    <tr>\n",
       "      <th>2</th>\n",
       "      <td>NaN</td>\n",
       "      <td>2630943</td>\n",
       "      <td>Arora,Advitya</td>\n",
       "      <td>Graded</td>\n",
       "      <td>2</td>\n",
       "      <td>Liberal Arts &amp; Sciences - Undeclared - Arts &amp; ...</td>\n",
       "      <td>Sophomore</td>\n",
       "      <td>0     Adeola</td>\n",
       "      <td>Isabella Olutoyin (she/her/hers)\\n1           ...</td>\n",
       "    </tr>\n",
       "    <tr>\n",
       "      <th>3</th>\n",
       "      <td>NaN</td>\n",
       "      <td>2540470</td>\n",
       "      <td>Bayyigit,Onur (he/him/his)</td>\n",
       "      <td>Graded</td>\n",
       "      <td>2</td>\n",
       "      <td>Liberal Arts &amp; Sciences - Quantitative Science...</td>\n",
       "      <td>Junior</td>\n",
       "      <td>0     Adeola</td>\n",
       "      <td>Isabella Olutoyin (she/her/hers)\\n1           ...</td>\n",
       "    </tr>\n",
       "    <tr>\n",
       "      <th>4</th>\n",
       "      <td>NaN</td>\n",
       "      <td>2671403</td>\n",
       "      <td>Bell Jr.,Wallace (he/him/his)</td>\n",
       "      <td>Graded</td>\n",
       "      <td>2</td>\n",
       "      <td>Liberal Arts &amp; Sciences - Undeclared - Arts &amp; ...</td>\n",
       "      <td>Freshman</td>\n",
       "      <td>0     Adeola</td>\n",
       "      <td>Isabella Olutoyin (she/her/hers)\\n1           ...</td>\n",
       "    </tr>\n",
       "    <tr>\n",
       "      <th>5</th>\n",
       "      <td>NaN</td>\n",
       "      <td>2550484</td>\n",
       "      <td>Belykh,Max</td>\n",
       "      <td>Graded</td>\n",
       "      <td>2</td>\n",
       "      <td>Liberal Arts &amp; Sciences - Economics BA</td>\n",
       "      <td>Junior</td>\n",
       "      <td>0     Adeola</td>\n",
       "      <td>Isabella Olutoyin (she/her/hers)\\n1           ...</td>\n",
       "    </tr>\n",
       "    <tr>\n",
       "      <th>6</th>\n",
       "      <td>NaN</td>\n",
       "      <td>2492303</td>\n",
       "      <td>Bhatia,Kush (he/him/his)</td>\n",
       "      <td>Graded</td>\n",
       "      <td>2</td>\n",
       "      <td>Bachelor of Business Admin - Business Administ...</td>\n",
       "      <td>Senior</td>\n",
       "      <td>0     Adeola</td>\n",
       "      <td>Isabella Olutoyin (she/her/hers)\\n1           ...</td>\n",
       "    </tr>\n",
       "    <tr>\n",
       "      <th>7</th>\n",
       "      <td>NaN</td>\n",
       "      <td>2486624</td>\n",
       "      <td>Braverman,Charlie Cody (he/him/his)</td>\n",
       "      <td>Graded</td>\n",
       "      <td>2</td>\n",
       "      <td>Liberal Arts &amp; Sciences - Economics BA/Quantit...</td>\n",
       "      <td>Senior</td>\n",
       "      <td>0     Adeola</td>\n",
       "      <td>Isabella Olutoyin (she/her/hers)\\n1           ...</td>\n",
       "    </tr>\n",
       "    <tr>\n",
       "      <th>8</th>\n",
       "      <td>NaN</td>\n",
       "      <td>2696966</td>\n",
       "      <td>Brodsky,Sammy (he/him/his)</td>\n",
       "      <td>Graded</td>\n",
       "      <td>2</td>\n",
       "      <td>Liberal Arts &amp; Sciences - Undeclared - Arts &amp; ...</td>\n",
       "      <td>Freshman</td>\n",
       "      <td>0     Adeola</td>\n",
       "      <td>Isabella Olutoyin (she/her/hers)\\n1           ...</td>\n",
       "    </tr>\n",
       "    <tr>\n",
       "      <th>9</th>\n",
       "      <td>NaN</td>\n",
       "      <td>2675122</td>\n",
       "      <td>Cao,Edward</td>\n",
       "      <td>Graded</td>\n",
       "      <td>2</td>\n",
       "      <td>Liberal Arts &amp; Sciences - Undeclared - Arts &amp; ...</td>\n",
       "      <td>Freshman</td>\n",
       "      <td>0     Adeola</td>\n",
       "      <td>Isabella Olutoyin (she/her/hers)\\n1           ...</td>\n",
       "    </tr>\n",
       "  </tbody>\n",
       "</table>\n",
       "</div>"
      ],
      "text/plain": [
       "   Notify       ID                                     Name Grade Basis  \\\n",
       "0     NaN  2554542  Adeola,Isabella Olutoyin (she/her/hers)      Graded   \n",
       "1     NaN  2554565           Alshekhlee,Zina (she/her/hers)      Graded   \n",
       "2     NaN  2630943                            Arora,Advitya      Graded   \n",
       "3     NaN  2540470               Bayyigit,Onur (he/him/his)      Graded   \n",
       "4     NaN  2671403            Bell Jr.,Wallace (he/him/his)      Graded   \n",
       "5     NaN  2550484                               Belykh,Max      Graded   \n",
       "6     NaN  2492303                 Bhatia,Kush (he/him/his)      Graded   \n",
       "7     NaN  2486624      Braverman,Charlie Cody (he/him/his)      Graded   \n",
       "8     NaN  2696966               Brodsky,Sammy (he/him/his)      Graded   \n",
       "9     NaN  2675122                               Cao,Edward      Graded   \n",
       "\n",
       "   Units                                   Program and Plan      Level  \\\n",
       "0      2  Liberal Arts & Sciences - Quantitative Science...     Junior   \n",
       "1      2  Liberal Arts & Sciences - Psychology BA/Quanti...     Senior   \n",
       "2      2  Liberal Arts & Sciences - Undeclared - Arts & ...  Sophomore   \n",
       "3      2  Liberal Arts & Sciences - Quantitative Science...     Junior   \n",
       "4      2  Liberal Arts & Sciences - Undeclared - Arts & ...   Freshman   \n",
       "5      2             Liberal Arts & Sciences - Economics BA     Junior   \n",
       "6      2  Bachelor of Business Admin - Business Administ...     Senior   \n",
       "7      2  Liberal Arts & Sciences - Economics BA/Quantit...     Senior   \n",
       "8      2  Liberal Arts & Sciences - Undeclared - Arts & ...   Freshman   \n",
       "9      2  Liberal Arts & Sciences - Undeclared - Arts & ...   Freshman   \n",
       "\n",
       "     first_name                                          last_name  \n",
       "0  0     Adeola  Isabella Olutoyin (she/her/hers)\\n1           ...  \n",
       "1  0     Adeola  Isabella Olutoyin (she/her/hers)\\n1           ...  \n",
       "2  0     Adeola  Isabella Olutoyin (she/her/hers)\\n1           ...  \n",
       "3  0     Adeola  Isabella Olutoyin (she/her/hers)\\n1           ...  \n",
       "4  0     Adeola  Isabella Olutoyin (she/her/hers)\\n1           ...  \n",
       "5  0     Adeola  Isabella Olutoyin (she/her/hers)\\n1           ...  \n",
       "6  0     Adeola  Isabella Olutoyin (she/her/hers)\\n1           ...  \n",
       "7  0     Adeola  Isabella Olutoyin (she/her/hers)\\n1           ...  \n",
       "8  0     Adeola  Isabella Olutoyin (she/her/hers)\\n1           ...  \n",
       "9  0     Adeola  Isabella Olutoyin (she/her/hers)\\n1           ...  "
      ]
     },
     "execution_count": 26,
     "metadata": {},
     "output_type": "execute_result"
    }
   ],
   "source": [
    "df2.head(10)\n",
    "# It's not giving us what we want"
   ]
  },
  {
   "cell_type": "markdown",
   "metadata": {},
   "source": [
    "It's so important to always check if the code worked as **intended**.<br>\n",
    "<br>\n",
    "\n",
    "Most error comes from not knowing what type of **input** and **output** should be given to the command.<br>\n",
    "Most panic comes from not knowing how to **break apart** a code into smaller chunks.<br>\n",
    "<br><br>\n",
    "Solution is a) to know many syntaxes b) even if you don't know the syntax, you have a muscle memory of breaking codes into parts (you have looked up documentation and thought about why one code works or not), so you have an idea of how Python works in general. "
   ]
  },
  {
   "cell_type": "markdown",
   "metadata": {},
   "source": [
    "#### 4. The \"lazy\" iterators\n",
    "\n",
    "These iterators are called lazy because it creates index-value pairs one at a time, only when requested.<br><br>\n",
    "\n",
    "Comparison:\n",
    "```python\n",
    "df2['first_name'] = [x.split(',')[0] for x in df.loc[:,'Name']]\n",
    "```"
   ]
  },
  {
   "cell_type": "code",
   "execution_count": 45,
   "metadata": {},
   "outputs": [
    {
     "name": "stdout",
     "output_type": "stream",
     "text": [
      "   Notify       ID                                     Name Grade Basis  \\\n",
      "0     NaN  2554542  Adeola,Isabella Olutoyin (she/her/hers)      Graded   \n",
      "1     NaN  2554565           Alshekhlee,Zina (she/her/hers)      Graded   \n",
      "2     NaN  2630943                            Arora,Advitya      Graded   \n",
      "3     NaN  2540470               Bayyigit,Onur (he/him/his)      Graded   \n",
      "4     NaN  2671403            Bell Jr.,Wallace (he/him/his)      Graded   \n",
      "\n",
      "   Units                                   Program and Plan      Level  \\\n",
      "0      2  Liberal Arts & Sciences - Quantitative Science...     Junior   \n",
      "1      2  Liberal Arts & Sciences - Psychology BA/Quanti...     Senior   \n",
      "2      2  Liberal Arts & Sciences - Undeclared - Arts & ...  Sophomore   \n",
      "3      2  Liberal Arts & Sciences - Quantitative Science...     Junior   \n",
      "4      2  Liberal Arts & Sciences - Undeclared - Arts & ...   Freshman   \n",
      "\n",
      "   first_name                         last_name  \n",
      "0      Adeola  Isabella Olutoyin (she/her/hers)  \n",
      "1  Alshekhlee               Zina (she/her/hers)  \n",
      "2       Arora                           Advitya  \n",
      "3    Bayyigit                 Onur (he/him/his)  \n",
      "4    Bell Jr.              Wallace (he/him/his)  \n"
     ]
    }
   ],
   "source": [
    "df2 = df.copy()\n",
    "\n",
    "# Not all pairs are generated upfront and stored in memory.\n",
    "\n",
    "for index, value in df['Name'].items():\n",
    "    df2.loc[index,'first_name'] = value.split(',')[0]\n",
    "    df2.loc[index,'last_name'] = value.split(',')[1]\n",
    "\n",
    "print(df2.head())"
   ]
  },
  {
   "cell_type": "markdown",
   "metadata": {},
   "source": [
    "<br><br><br>\n",
    "Q: What you do think is the benefit of using the lazy iterator? <br><br><br>"
   ]
  },
  {
   "cell_type": "markdown",
   "metadata": {},
   "source": [
    "#### 5. Now, delete the pronoun information from ```last_name```."
   ]
  },
  {
   "cell_type": "code",
   "execution_count": 47,
   "metadata": {},
   "outputs": [
    {
     "data": {
      "application/vnd.microsoft.datawrangler.viewer.v0+json": {
       "columns": [
        {
         "name": "index",
         "rawType": "int64",
         "type": "integer"
        },
        {
         "name": "Notify",
         "rawType": "float64",
         "type": "float"
        },
        {
         "name": "ID",
         "rawType": "int64",
         "type": "integer"
        },
        {
         "name": "Name",
         "rawType": "object",
         "type": "string"
        },
        {
         "name": "Grade Basis",
         "rawType": "object",
         "type": "string"
        },
        {
         "name": "Units",
         "rawType": "int64",
         "type": "integer"
        },
        {
         "name": "Program and Plan",
         "rawType": "object",
         "type": "string"
        },
        {
         "name": "Level",
         "rawType": "object",
         "type": "string"
        },
        {
         "name": "first_name",
         "rawType": "object",
         "type": "string"
        },
        {
         "name": "last_name",
         "rawType": "object",
         "type": "string"
        }
       ],
       "conversionMethod": "pd.DataFrame",
       "ref": "f127b821-8a67-40ed-9435-03e5056b9c16",
       "rows": [
        [
         "0",
         null,
         "2554542",
         "Adeola,Isabella Olutoyin (she/her/hers)",
         "Graded",
         "2",
         "Liberal Arts & Sciences - Quantitative Sciences BS/English Minor",
         "Junior",
         "Adeola",
         "Isabella Olutoyin "
        ],
        [
         "1",
         null,
         "2554565",
         "Alshekhlee,Zina (she/her/hers)",
         "Graded",
         "2",
         "Liberal Arts & Sciences - Psychology BA/Quantitative Sciences ND",
         "Senior",
         "Alshekhlee",
         "Zina "
        ],
        [
         "2",
         null,
         "2630943",
         "Arora,Advitya",
         "Graded",
         "2",
         "Liberal Arts & Sciences - Undeclared - Arts & Sciences",
         "Sophomore",
         "Arora",
         "Advitya"
        ],
        [
         "3",
         null,
         "2540470",
         "Bayyigit,Onur (he/him/his)",
         "Graded",
         "2",
         "Liberal Arts & Sciences - Quantitative Sciences BS",
         "Junior",
         "Bayyigit",
         "Onur "
        ],
        [
         "4",
         null,
         "2671403",
         "Bell Jr.,Wallace (he/him/his)",
         "Graded",
         "2",
         "Liberal Arts & Sciences - Undeclared - Arts & Sciences",
         "Freshman",
         "Bell Jr.",
         "Wallace "
        ],
        [
         "5",
         null,
         "2550484",
         "Belykh,Max",
         "Graded",
         "2",
         "Liberal Arts & Sciences - Economics BA",
         "Junior",
         "Belykh",
         "Max"
        ],
        [
         "6",
         null,
         "2492303",
         "Bhatia,Kush (he/him/his)",
         "Graded",
         "2",
         "Bachelor of Business Admin - Business Administration/Quantitative Sciences",
         "Senior",
         "Bhatia",
         "Kush "
        ],
        [
         "7",
         null,
         "2486624",
         "Braverman,Charlie Cody (he/him/his)",
         "Graded",
         "2",
         "Liberal Arts & Sciences - Economics BA/Quantitative Sciences Minor",
         "Senior",
         "Braverman",
         "Charlie Cody "
        ],
        [
         "8",
         null,
         "2696966",
         "Brodsky,Sammy (he/him/his)",
         "Graded",
         "2",
         "Liberal Arts & Sciences - Undeclared - Arts & Sciences/Film and Media Minor",
         "Freshman",
         "Brodsky",
         "Sammy "
        ],
        [
         "9",
         null,
         "2675122",
         "Cao,Edward",
         "Graded",
         "2",
         "Liberal Arts & Sciences - Undeclared - Arts & Sciences",
         "Freshman",
         "Cao",
         "Edward"
        ]
       ],
       "shape": {
        "columns": 9,
        "rows": 10
       }
      },
      "text/html": [
       "<div>\n",
       "<style scoped>\n",
       "    .dataframe tbody tr th:only-of-type {\n",
       "        vertical-align: middle;\n",
       "    }\n",
       "\n",
       "    .dataframe tbody tr th {\n",
       "        vertical-align: top;\n",
       "    }\n",
       "\n",
       "    .dataframe thead th {\n",
       "        text-align: right;\n",
       "    }\n",
       "</style>\n",
       "<table border=\"1\" class=\"dataframe\">\n",
       "  <thead>\n",
       "    <tr style=\"text-align: right;\">\n",
       "      <th></th>\n",
       "      <th>Notify</th>\n",
       "      <th>ID</th>\n",
       "      <th>Name</th>\n",
       "      <th>Grade Basis</th>\n",
       "      <th>Units</th>\n",
       "      <th>Program and Plan</th>\n",
       "      <th>Level</th>\n",
       "      <th>first_name</th>\n",
       "      <th>last_name</th>\n",
       "    </tr>\n",
       "  </thead>\n",
       "  <tbody>\n",
       "    <tr>\n",
       "      <th>0</th>\n",
       "      <td>NaN</td>\n",
       "      <td>2554542</td>\n",
       "      <td>Adeola,Isabella Olutoyin (she/her/hers)</td>\n",
       "      <td>Graded</td>\n",
       "      <td>2</td>\n",
       "      <td>Liberal Arts &amp; Sciences - Quantitative Science...</td>\n",
       "      <td>Junior</td>\n",
       "      <td>Adeola</td>\n",
       "      <td>Isabella Olutoyin</td>\n",
       "    </tr>\n",
       "    <tr>\n",
       "      <th>1</th>\n",
       "      <td>NaN</td>\n",
       "      <td>2554565</td>\n",
       "      <td>Alshekhlee,Zina (she/her/hers)</td>\n",
       "      <td>Graded</td>\n",
       "      <td>2</td>\n",
       "      <td>Liberal Arts &amp; Sciences - Psychology BA/Quanti...</td>\n",
       "      <td>Senior</td>\n",
       "      <td>Alshekhlee</td>\n",
       "      <td>Zina</td>\n",
       "    </tr>\n",
       "    <tr>\n",
       "      <th>2</th>\n",
       "      <td>NaN</td>\n",
       "      <td>2630943</td>\n",
       "      <td>Arora,Advitya</td>\n",
       "      <td>Graded</td>\n",
       "      <td>2</td>\n",
       "      <td>Liberal Arts &amp; Sciences - Undeclared - Arts &amp; ...</td>\n",
       "      <td>Sophomore</td>\n",
       "      <td>Arora</td>\n",
       "      <td>Advitya</td>\n",
       "    </tr>\n",
       "    <tr>\n",
       "      <th>3</th>\n",
       "      <td>NaN</td>\n",
       "      <td>2540470</td>\n",
       "      <td>Bayyigit,Onur (he/him/his)</td>\n",
       "      <td>Graded</td>\n",
       "      <td>2</td>\n",
       "      <td>Liberal Arts &amp; Sciences - Quantitative Science...</td>\n",
       "      <td>Junior</td>\n",
       "      <td>Bayyigit</td>\n",
       "      <td>Onur</td>\n",
       "    </tr>\n",
       "    <tr>\n",
       "      <th>4</th>\n",
       "      <td>NaN</td>\n",
       "      <td>2671403</td>\n",
       "      <td>Bell Jr.,Wallace (he/him/his)</td>\n",
       "      <td>Graded</td>\n",
       "      <td>2</td>\n",
       "      <td>Liberal Arts &amp; Sciences - Undeclared - Arts &amp; ...</td>\n",
       "      <td>Freshman</td>\n",
       "      <td>Bell Jr.</td>\n",
       "      <td>Wallace</td>\n",
       "    </tr>\n",
       "    <tr>\n",
       "      <th>5</th>\n",
       "      <td>NaN</td>\n",
       "      <td>2550484</td>\n",
       "      <td>Belykh,Max</td>\n",
       "      <td>Graded</td>\n",
       "      <td>2</td>\n",
       "      <td>Liberal Arts &amp; Sciences - Economics BA</td>\n",
       "      <td>Junior</td>\n",
       "      <td>Belykh</td>\n",
       "      <td>Max</td>\n",
       "    </tr>\n",
       "    <tr>\n",
       "      <th>6</th>\n",
       "      <td>NaN</td>\n",
       "      <td>2492303</td>\n",
       "      <td>Bhatia,Kush (he/him/his)</td>\n",
       "      <td>Graded</td>\n",
       "      <td>2</td>\n",
       "      <td>Bachelor of Business Admin - Business Administ...</td>\n",
       "      <td>Senior</td>\n",
       "      <td>Bhatia</td>\n",
       "      <td>Kush</td>\n",
       "    </tr>\n",
       "    <tr>\n",
       "      <th>7</th>\n",
       "      <td>NaN</td>\n",
       "      <td>2486624</td>\n",
       "      <td>Braverman,Charlie Cody (he/him/his)</td>\n",
       "      <td>Graded</td>\n",
       "      <td>2</td>\n",
       "      <td>Liberal Arts &amp; Sciences - Economics BA/Quantit...</td>\n",
       "      <td>Senior</td>\n",
       "      <td>Braverman</td>\n",
       "      <td>Charlie Cody</td>\n",
       "    </tr>\n",
       "    <tr>\n",
       "      <th>8</th>\n",
       "      <td>NaN</td>\n",
       "      <td>2696966</td>\n",
       "      <td>Brodsky,Sammy (he/him/his)</td>\n",
       "      <td>Graded</td>\n",
       "      <td>2</td>\n",
       "      <td>Liberal Arts &amp; Sciences - Undeclared - Arts &amp; ...</td>\n",
       "      <td>Freshman</td>\n",
       "      <td>Brodsky</td>\n",
       "      <td>Sammy</td>\n",
       "    </tr>\n",
       "    <tr>\n",
       "      <th>9</th>\n",
       "      <td>NaN</td>\n",
       "      <td>2675122</td>\n",
       "      <td>Cao,Edward</td>\n",
       "      <td>Graded</td>\n",
       "      <td>2</td>\n",
       "      <td>Liberal Arts &amp; Sciences - Undeclared - Arts &amp; ...</td>\n",
       "      <td>Freshman</td>\n",
       "      <td>Cao</td>\n",
       "      <td>Edward</td>\n",
       "    </tr>\n",
       "  </tbody>\n",
       "</table>\n",
       "</div>"
      ],
      "text/plain": [
       "   Notify       ID                                     Name Grade Basis  \\\n",
       "0     NaN  2554542  Adeola,Isabella Olutoyin (she/her/hers)      Graded   \n",
       "1     NaN  2554565           Alshekhlee,Zina (she/her/hers)      Graded   \n",
       "2     NaN  2630943                            Arora,Advitya      Graded   \n",
       "3     NaN  2540470               Bayyigit,Onur (he/him/his)      Graded   \n",
       "4     NaN  2671403            Bell Jr.,Wallace (he/him/his)      Graded   \n",
       "5     NaN  2550484                               Belykh,Max      Graded   \n",
       "6     NaN  2492303                 Bhatia,Kush (he/him/his)      Graded   \n",
       "7     NaN  2486624      Braverman,Charlie Cody (he/him/his)      Graded   \n",
       "8     NaN  2696966               Brodsky,Sammy (he/him/his)      Graded   \n",
       "9     NaN  2675122                               Cao,Edward      Graded   \n",
       "\n",
       "   Units                                   Program and Plan      Level  \\\n",
       "0      2  Liberal Arts & Sciences - Quantitative Science...     Junior   \n",
       "1      2  Liberal Arts & Sciences - Psychology BA/Quanti...     Senior   \n",
       "2      2  Liberal Arts & Sciences - Undeclared - Arts & ...  Sophomore   \n",
       "3      2  Liberal Arts & Sciences - Quantitative Science...     Junior   \n",
       "4      2  Liberal Arts & Sciences - Undeclared - Arts & ...   Freshman   \n",
       "5      2             Liberal Arts & Sciences - Economics BA     Junior   \n",
       "6      2  Bachelor of Business Admin - Business Administ...     Senior   \n",
       "7      2  Liberal Arts & Sciences - Economics BA/Quantit...     Senior   \n",
       "8      2  Liberal Arts & Sciences - Undeclared - Arts & ...   Freshman   \n",
       "9      2  Liberal Arts & Sciences - Undeclared - Arts & ...   Freshman   \n",
       "\n",
       "   first_name           last_name  \n",
       "0      Adeola  Isabella Olutoyin   \n",
       "1  Alshekhlee               Zina   \n",
       "2       Arora             Advitya  \n",
       "3    Bayyigit               Onur   \n",
       "4    Bell Jr.            Wallace   \n",
       "5      Belykh                 Max  \n",
       "6      Bhatia               Kush   \n",
       "7   Braverman       Charlie Cody   \n",
       "8     Brodsky              Sammy   \n",
       "9         Cao              Edward  "
      ]
     },
     "execution_count": 47,
     "metadata": {},
     "output_type": "execute_result"
    }
   ],
   "source": [
    "df2['last_name'] = df2['last_name'].apply(lambda x: x.split('(')[0])\n",
    "df2.head(10)"
   ]
  },
  {
   "cell_type": "markdown",
   "metadata": {},
   "source": [
    "### (b) Recode 'Level' column to numeric (number of years in college)"
   ]
  },
  {
   "cell_type": "markdown",
   "metadata": {},
   "source": [
    "First, check what the unique values are. When there is an unexpected value (NA) or a typo, your recoding rule may not work as expected."
   ]
  },
  {
   "cell_type": "code",
   "execution_count": 49,
   "metadata": {},
   "outputs": [
    {
     "data": {
      "text/plain": [
       "array(['Junior', 'Senior', 'Sophomore', 'Freshman'], dtype=object)"
      ]
     },
     "execution_count": 49,
     "metadata": {},
     "output_type": "execute_result"
    }
   ],
   "source": [
    "df['Level'].unique()"
   ]
  },
  {
   "cell_type": "markdown",
   "metadata": {},
   "source": [
    "When it's confirmed, implement."
   ]
  },
  {
   "cell_type": "code",
   "execution_count": 50,
   "metadata": {},
   "outputs": [],
   "source": [
    "df3 = df2.copy()"
   ]
  },
  {
   "cell_type": "code",
   "execution_count": 51,
   "metadata": {},
   "outputs": [
    {
     "data": {
      "application/vnd.microsoft.datawrangler.viewer.v0+json": {
       "columns": [
        {
         "name": "index",
         "rawType": "int64",
         "type": "integer"
        },
        {
         "name": "Notify",
         "rawType": "float64",
         "type": "float"
        },
        {
         "name": "ID",
         "rawType": "int64",
         "type": "integer"
        },
        {
         "name": "Name",
         "rawType": "object",
         "type": "string"
        },
        {
         "name": "Grade Basis",
         "rawType": "object",
         "type": "string"
        },
        {
         "name": "Units",
         "rawType": "int64",
         "type": "integer"
        },
        {
         "name": "Program and Plan",
         "rawType": "object",
         "type": "string"
        },
        {
         "name": "Level",
         "rawType": "object",
         "type": "string"
        },
        {
         "name": "first_name",
         "rawType": "object",
         "type": "string"
        },
        {
         "name": "last_name",
         "rawType": "object",
         "type": "string"
        },
        {
         "name": "Level_new",
         "rawType": "int64",
         "type": "integer"
        }
       ],
       "conversionMethod": "pd.DataFrame",
       "ref": "8473627f-f7ed-43c1-b6d5-9cb8918fd7e9",
       "rows": [
        [
         "0",
         null,
         "2554542",
         "Adeola,Isabella Olutoyin (she/her/hers)",
         "Graded",
         "2",
         "Liberal Arts & Sciences - Quantitative Sciences BS/English Minor",
         "Junior",
         "Adeola",
         "Isabella Olutoyin ",
         "3"
        ],
        [
         "1",
         null,
         "2554565",
         "Alshekhlee,Zina (she/her/hers)",
         "Graded",
         "2",
         "Liberal Arts & Sciences - Psychology BA/Quantitative Sciences ND",
         "Senior",
         "Alshekhlee",
         "Zina ",
         "4"
        ],
        [
         "2",
         null,
         "2630943",
         "Arora,Advitya",
         "Graded",
         "2",
         "Liberal Arts & Sciences - Undeclared - Arts & Sciences",
         "Sophomore",
         "Arora",
         "Advitya",
         "2"
        ],
        [
         "3",
         null,
         "2540470",
         "Bayyigit,Onur (he/him/his)",
         "Graded",
         "2",
         "Liberal Arts & Sciences - Quantitative Sciences BS",
         "Junior",
         "Bayyigit",
         "Onur ",
         "3"
        ],
        [
         "4",
         null,
         "2671403",
         "Bell Jr.,Wallace (he/him/his)",
         "Graded",
         "2",
         "Liberal Arts & Sciences - Undeclared - Arts & Sciences",
         "Freshman",
         "Bell Jr.",
         "Wallace ",
         "1"
        ],
        [
         "5",
         null,
         "2550484",
         "Belykh,Max",
         "Graded",
         "2",
         "Liberal Arts & Sciences - Economics BA",
         "Junior",
         "Belykh",
         "Max",
         "3"
        ],
        [
         "6",
         null,
         "2492303",
         "Bhatia,Kush (he/him/his)",
         "Graded",
         "2",
         "Bachelor of Business Admin - Business Administration/Quantitative Sciences",
         "Senior",
         "Bhatia",
         "Kush ",
         "4"
        ],
        [
         "7",
         null,
         "2486624",
         "Braverman,Charlie Cody (he/him/his)",
         "Graded",
         "2",
         "Liberal Arts & Sciences - Economics BA/Quantitative Sciences Minor",
         "Senior",
         "Braverman",
         "Charlie Cody ",
         "4"
        ],
        [
         "8",
         null,
         "2696966",
         "Brodsky,Sammy (he/him/his)",
         "Graded",
         "2",
         "Liberal Arts & Sciences - Undeclared - Arts & Sciences/Film and Media Minor",
         "Freshman",
         "Brodsky",
         "Sammy ",
         "1"
        ],
        [
         "9",
         null,
         "2675122",
         "Cao,Edward",
         "Graded",
         "2",
         "Liberal Arts & Sciences - Undeclared - Arts & Sciences",
         "Freshman",
         "Cao",
         "Edward",
         "1"
        ]
       ],
       "shape": {
        "columns": 10,
        "rows": 10
       }
      },
      "text/html": [
       "<div>\n",
       "<style scoped>\n",
       "    .dataframe tbody tr th:only-of-type {\n",
       "        vertical-align: middle;\n",
       "    }\n",
       "\n",
       "    .dataframe tbody tr th {\n",
       "        vertical-align: top;\n",
       "    }\n",
       "\n",
       "    .dataframe thead th {\n",
       "        text-align: right;\n",
       "    }\n",
       "</style>\n",
       "<table border=\"1\" class=\"dataframe\">\n",
       "  <thead>\n",
       "    <tr style=\"text-align: right;\">\n",
       "      <th></th>\n",
       "      <th>Notify</th>\n",
       "      <th>ID</th>\n",
       "      <th>Name</th>\n",
       "      <th>Grade Basis</th>\n",
       "      <th>Units</th>\n",
       "      <th>Program and Plan</th>\n",
       "      <th>Level</th>\n",
       "      <th>first_name</th>\n",
       "      <th>last_name</th>\n",
       "      <th>Level_new</th>\n",
       "    </tr>\n",
       "  </thead>\n",
       "  <tbody>\n",
       "    <tr>\n",
       "      <th>0</th>\n",
       "      <td>NaN</td>\n",
       "      <td>2554542</td>\n",
       "      <td>Adeola,Isabella Olutoyin (she/her/hers)</td>\n",
       "      <td>Graded</td>\n",
       "      <td>2</td>\n",
       "      <td>Liberal Arts &amp; Sciences - Quantitative Science...</td>\n",
       "      <td>Junior</td>\n",
       "      <td>Adeola</td>\n",
       "      <td>Isabella Olutoyin</td>\n",
       "      <td>3</td>\n",
       "    </tr>\n",
       "    <tr>\n",
       "      <th>1</th>\n",
       "      <td>NaN</td>\n",
       "      <td>2554565</td>\n",
       "      <td>Alshekhlee,Zina (she/her/hers)</td>\n",
       "      <td>Graded</td>\n",
       "      <td>2</td>\n",
       "      <td>Liberal Arts &amp; Sciences - Psychology BA/Quanti...</td>\n",
       "      <td>Senior</td>\n",
       "      <td>Alshekhlee</td>\n",
       "      <td>Zina</td>\n",
       "      <td>4</td>\n",
       "    </tr>\n",
       "    <tr>\n",
       "      <th>2</th>\n",
       "      <td>NaN</td>\n",
       "      <td>2630943</td>\n",
       "      <td>Arora,Advitya</td>\n",
       "      <td>Graded</td>\n",
       "      <td>2</td>\n",
       "      <td>Liberal Arts &amp; Sciences - Undeclared - Arts &amp; ...</td>\n",
       "      <td>Sophomore</td>\n",
       "      <td>Arora</td>\n",
       "      <td>Advitya</td>\n",
       "      <td>2</td>\n",
       "    </tr>\n",
       "    <tr>\n",
       "      <th>3</th>\n",
       "      <td>NaN</td>\n",
       "      <td>2540470</td>\n",
       "      <td>Bayyigit,Onur (he/him/his)</td>\n",
       "      <td>Graded</td>\n",
       "      <td>2</td>\n",
       "      <td>Liberal Arts &amp; Sciences - Quantitative Science...</td>\n",
       "      <td>Junior</td>\n",
       "      <td>Bayyigit</td>\n",
       "      <td>Onur</td>\n",
       "      <td>3</td>\n",
       "    </tr>\n",
       "    <tr>\n",
       "      <th>4</th>\n",
       "      <td>NaN</td>\n",
       "      <td>2671403</td>\n",
       "      <td>Bell Jr.,Wallace (he/him/his)</td>\n",
       "      <td>Graded</td>\n",
       "      <td>2</td>\n",
       "      <td>Liberal Arts &amp; Sciences - Undeclared - Arts &amp; ...</td>\n",
       "      <td>Freshman</td>\n",
       "      <td>Bell Jr.</td>\n",
       "      <td>Wallace</td>\n",
       "      <td>1</td>\n",
       "    </tr>\n",
       "    <tr>\n",
       "      <th>5</th>\n",
       "      <td>NaN</td>\n",
       "      <td>2550484</td>\n",
       "      <td>Belykh,Max</td>\n",
       "      <td>Graded</td>\n",
       "      <td>2</td>\n",
       "      <td>Liberal Arts &amp; Sciences - Economics BA</td>\n",
       "      <td>Junior</td>\n",
       "      <td>Belykh</td>\n",
       "      <td>Max</td>\n",
       "      <td>3</td>\n",
       "    </tr>\n",
       "    <tr>\n",
       "      <th>6</th>\n",
       "      <td>NaN</td>\n",
       "      <td>2492303</td>\n",
       "      <td>Bhatia,Kush (he/him/his)</td>\n",
       "      <td>Graded</td>\n",
       "      <td>2</td>\n",
       "      <td>Bachelor of Business Admin - Business Administ...</td>\n",
       "      <td>Senior</td>\n",
       "      <td>Bhatia</td>\n",
       "      <td>Kush</td>\n",
       "      <td>4</td>\n",
       "    </tr>\n",
       "    <tr>\n",
       "      <th>7</th>\n",
       "      <td>NaN</td>\n",
       "      <td>2486624</td>\n",
       "      <td>Braverman,Charlie Cody (he/him/his)</td>\n",
       "      <td>Graded</td>\n",
       "      <td>2</td>\n",
       "      <td>Liberal Arts &amp; Sciences - Economics BA/Quantit...</td>\n",
       "      <td>Senior</td>\n",
       "      <td>Braverman</td>\n",
       "      <td>Charlie Cody</td>\n",
       "      <td>4</td>\n",
       "    </tr>\n",
       "    <tr>\n",
       "      <th>8</th>\n",
       "      <td>NaN</td>\n",
       "      <td>2696966</td>\n",
       "      <td>Brodsky,Sammy (he/him/his)</td>\n",
       "      <td>Graded</td>\n",
       "      <td>2</td>\n",
       "      <td>Liberal Arts &amp; Sciences - Undeclared - Arts &amp; ...</td>\n",
       "      <td>Freshman</td>\n",
       "      <td>Brodsky</td>\n",
       "      <td>Sammy</td>\n",
       "      <td>1</td>\n",
       "    </tr>\n",
       "    <tr>\n",
       "      <th>9</th>\n",
       "      <td>NaN</td>\n",
       "      <td>2675122</td>\n",
       "      <td>Cao,Edward</td>\n",
       "      <td>Graded</td>\n",
       "      <td>2</td>\n",
       "      <td>Liberal Arts &amp; Sciences - Undeclared - Arts &amp; ...</td>\n",
       "      <td>Freshman</td>\n",
       "      <td>Cao</td>\n",
       "      <td>Edward</td>\n",
       "      <td>1</td>\n",
       "    </tr>\n",
       "  </tbody>\n",
       "</table>\n",
       "</div>"
      ],
      "text/plain": [
       "   Notify       ID                                     Name Grade Basis  \\\n",
       "0     NaN  2554542  Adeola,Isabella Olutoyin (she/her/hers)      Graded   \n",
       "1     NaN  2554565           Alshekhlee,Zina (she/her/hers)      Graded   \n",
       "2     NaN  2630943                            Arora,Advitya      Graded   \n",
       "3     NaN  2540470               Bayyigit,Onur (he/him/his)      Graded   \n",
       "4     NaN  2671403            Bell Jr.,Wallace (he/him/his)      Graded   \n",
       "5     NaN  2550484                               Belykh,Max      Graded   \n",
       "6     NaN  2492303                 Bhatia,Kush (he/him/his)      Graded   \n",
       "7     NaN  2486624      Braverman,Charlie Cody (he/him/his)      Graded   \n",
       "8     NaN  2696966               Brodsky,Sammy (he/him/his)      Graded   \n",
       "9     NaN  2675122                               Cao,Edward      Graded   \n",
       "\n",
       "   Units                                   Program and Plan      Level  \\\n",
       "0      2  Liberal Arts & Sciences - Quantitative Science...     Junior   \n",
       "1      2  Liberal Arts & Sciences - Psychology BA/Quanti...     Senior   \n",
       "2      2  Liberal Arts & Sciences - Undeclared - Arts & ...  Sophomore   \n",
       "3      2  Liberal Arts & Sciences - Quantitative Science...     Junior   \n",
       "4      2  Liberal Arts & Sciences - Undeclared - Arts & ...   Freshman   \n",
       "5      2             Liberal Arts & Sciences - Economics BA     Junior   \n",
       "6      2  Bachelor of Business Admin - Business Administ...     Senior   \n",
       "7      2  Liberal Arts & Sciences - Economics BA/Quantit...     Senior   \n",
       "8      2  Liberal Arts & Sciences - Undeclared - Arts & ...   Freshman   \n",
       "9      2  Liberal Arts & Sciences - Undeclared - Arts & ...   Freshman   \n",
       "\n",
       "   first_name           last_name  Level_new  \n",
       "0      Adeola  Isabella Olutoyin           3  \n",
       "1  Alshekhlee               Zina           4  \n",
       "2       Arora             Advitya          2  \n",
       "3    Bayyigit               Onur           3  \n",
       "4    Bell Jr.            Wallace           1  \n",
       "5      Belykh                 Max          3  \n",
       "6      Bhatia               Kush           4  \n",
       "7   Braverman       Charlie Cody           4  \n",
       "8     Brodsky              Sammy           1  \n",
       "9         Cao              Edward          1  "
      ]
     },
     "execution_count": 51,
     "metadata": {},
     "output_type": "execute_result"
    }
   ],
   "source": [
    "def convt(x):\n",
    "    if x == 'Freshman':\n",
    "        return 1\n",
    "    elif x == 'Sophomore':\n",
    "        return 2\n",
    "    elif x == 'Junior':\n",
    "        return 3\n",
    "    elif x == 'Senior':\n",
    "        return 4\n",
    "    else: # closed for all other cases; good practice!\n",
    "        return 0\n",
    "\n",
    "df3['Level_new'] = df2['Level'].apply(lambda x: convt(x))\n",
    "df3.head(10)\n",
    "\n",
    "# How would we write the same code with for loop? Try it yourself!"
   ]
  },
  {
   "cell_type": "markdown",
   "metadata": {},
   "source": [
    "## <span style = 'color: darkblue'> III. Random assignment to project groups\n"
   ]
  },
  {
   "cell_type": "markdown",
   "metadata": {},
   "source": [
    "Let's first assign students completely randomly. We want 3 or 4 people in one group."
   ]
  },
  {
   "cell_type": "code",
   "execution_count": 52,
   "metadata": {},
   "outputs": [
    {
     "data": {
      "text/plain": [
       "81"
      ]
     },
     "execution_count": 52,
     "metadata": {},
     "output_type": "execute_result"
    }
   ],
   "source": [
    "len(df3)"
   ]
  },
  {
   "cell_type": "code",
   "execution_count": 70,
   "metadata": {},
   "outputs": [
    {
     "name": "stdout",
     "output_type": "stream",
     "text": [
      "[(27 - 4*y/3, y)]\n"
     ]
    }
   ],
   "source": [
    "import sympy as sp\n",
    "# Download a new package into your environment, using Anacona Navigator\n",
    "\n",
    "x,y = sp.symbols('x y')\n",
    "equation = sp.Eq(3*x + 4*y, len(df3))\n",
    "# x is the num of groups with three people,\n",
    "# y is the num of groups with four people\n",
    "print(sp.solve(equation , (x,y)))"
   ]
  },
  {
   "cell_type": "code",
   "execution_count": 57,
   "metadata": {},
   "outputs": [
    {
     "data": {
      "text/plain": [
       "20.25"
      ]
     },
     "execution_count": 57,
     "metadata": {},
     "output_type": "execute_result"
    }
   ],
   "source": [
    "len(df)/4"
   ]
  },
  {
   "cell_type": "markdown",
   "metadata": {},
   "source": [
    "Let's use a dictionary object to save pairs of x, y:"
   ]
  },
  {
   "cell_type": "code",
   "execution_count": 80,
   "metadata": {},
   "outputs": [
    {
     "data": {
      "text/plain": [
       "{1: 25.666666666666668,\n",
       " 2: 24.333333333333332,\n",
       " 3: 23.0,\n",
       " 4: 21.666666666666668,\n",
       " 5: 20.333333333333332,\n",
       " 6: 19.0,\n",
       " 7: 17.666666666666664,\n",
       " 8: 16.333333333333336,\n",
       " 9: 15.0,\n",
       " 10: 13.666666666666666,\n",
       " 11: 12.333333333333334,\n",
       " 12: 11.0,\n",
       " 13: 9.666666666666668,\n",
       " 14: 8.333333333333332,\n",
       " 15: 7.0,\n",
       " 16: 5.666666666666668,\n",
       " 17: 4.333333333333332,\n",
       " 18: 3.0,\n",
       " 19: 1.6666666666666679}"
      ]
     },
     "execution_count": 80,
     "metadata": {},
     "output_type": "execute_result"
    }
   ],
   "source": [
    "y = range(1, 20, 1)\n",
    "x = [(27 - 4*i/3) for i in y]\n",
    "\n",
    "dict_groups = {y[i]: x[i] for i in range(len(x))}\n",
    "dict_groups"
   ]
  },
  {
   "cell_type": "markdown",
   "metadata": {},
   "source": [
    "Complete code:"
   ]
  },
  {
   "cell_type": "code",
   "execution_count": 86,
   "metadata": {},
   "outputs": [
    {
     "data": {
      "text/plain": [
       "{3: 23.0, 6: 19.0, 9: 15.0, 12: 11.0, 15: 7.0, 18: 3.0}"
      ]
     },
     "execution_count": 86,
     "metadata": {},
     "output_type": "execute_result"
    }
   ],
   "source": [
    "y = range(1, 20, 1)\n",
    "x = [(27 - 4*i/3) for i in y]\n",
    "\n",
    "dict_groups = {y[i]: x[i] for i in range(len(x)) if x[i] > 0 and x[i].is_integer()}\n",
    "dict_groups"
   ]
  },
  {
   "cell_type": "markdown",
   "metadata": {},
   "source": [
    "Again:\n",
    "<img src = \"figures/credits-programiz.png\">"
   ]
  },
  {
   "cell_type": "code",
   "execution_count": 90,
   "metadata": {},
   "outputs": [
    {
     "name": "stdout",
     "output_type": "stream",
     "text": [
      "dict_items([(3, 23.0), (6, 19.0), (9, 15.0), (12, 11.0), (15, 7.0), (18, 3.0)])\n",
      "dict_keys([3, 6, 9, 12, 15, 18])\n",
      "dict_values([23.0, 19.0, 15.0, 11.0, 7.0, 3.0])\n"
     ]
    }
   ],
   "source": [
    "print(dict_groups.items()) # we call each element an item\n",
    "print(dict_groups.keys()) # this is 'y's\n",
    "print(dict_groups.values()) # this is 'x's"
   ]
  },
  {
   "cell_type": "markdown",
   "metadata": {},
   "source": [
    "If we did not use dictionary type object:"
   ]
  },
  {
   "cell_type": "code",
   "execution_count": 91,
   "metadata": {},
   "outputs": [
    {
     "name": "stdout",
     "output_type": "stream",
     "text": [
      "range(1, 20)\n",
      "[25.666666666666668, 24.333333333333332, 23.0, 21.666666666666668, 20.333333333333332, 19.0, 17.666666666666664, 16.333333333333336, 15.0, 13.666666666666666, 12.333333333333334, 11.0, 9.666666666666668, 8.333333333333332, 7.0, 5.666666666666668, 4.333333333333332, 3.0, 1.6666666666666679]\n",
      "[23.0, 19.0, 15.0, 11.0, 7.0, 3.0]\n"
     ]
    }
   ],
   "source": [
    "y = range(1, 20, 1)\n",
    "x = [(27 - 4*i/3) for i in y]\n",
    "x2 = [i for i in x if i.is_integer()==1 and i > 0]\n",
    "\n",
    "print(y)\n",
    "print(x)\n",
    "print(x2)\n",
    "\n",
    "# It's hard to get the corresponding y value of the positive integer x values (in x2)"
   ]
  },
  {
   "cell_type": "code",
   "execution_count": 94,
   "metadata": {},
   "outputs": [
    {
     "data": {
      "text/plain": [
       "15.0"
      ]
     },
     "execution_count": 94,
     "metadata": {},
     "output_type": "execute_result"
    }
   ],
   "source": [
    "dict_groups[9]"
   ]
  },
  {
   "cell_type": "markdown",
   "metadata": {},
   "source": [
    "Let's say we will have 9 groups of size 4, and 15 groups of size 3. Our plan:\n",
    "\n",
    "- Random draw groups of size 4, 9 times.\n",
    "- Random draw groups of size 3, 15 times.\n",
    "- People are assigned only one group. So after they are assigned, they should be eliminated."
   ]
  },
  {
   "cell_type": "code",
   "execution_count": 95,
   "metadata": {},
   "outputs": [],
   "source": [
    "np.random.seed(1231) # Always, remember to set seed when there is a random element in your code."
   ]
  },
  {
   "cell_type": "markdown",
   "metadata": {},
   "source": [
    "Test out the building blocks of your final, elegant code:"
   ]
  },
  {
   "cell_type": "code",
   "execution_count": 96,
   "metadata": {},
   "outputs": [
    {
     "data": {
      "application/vnd.microsoft.datawrangler.viewer.v0+json": {
       "columns": [
        {
         "name": "index",
         "rawType": "int64",
         "type": "integer"
        },
        {
         "name": "Notify",
         "rawType": "float64",
         "type": "float"
        },
        {
         "name": "ID",
         "rawType": "int64",
         "type": "integer"
        },
        {
         "name": "Name",
         "rawType": "object",
         "type": "string"
        },
        {
         "name": "Grade Basis",
         "rawType": "object",
         "type": "string"
        },
        {
         "name": "Units",
         "rawType": "int64",
         "type": "integer"
        },
        {
         "name": "Program and Plan",
         "rawType": "object",
         "type": "string"
        },
        {
         "name": "Level",
         "rawType": "object",
         "type": "string"
        },
        {
         "name": "first_name",
         "rawType": "object",
         "type": "string"
        },
        {
         "name": "last_name",
         "rawType": "object",
         "type": "string"
        },
        {
         "name": "Level_new",
         "rawType": "int64",
         "type": "integer"
        }
       ],
       "conversionMethod": "pd.DataFrame",
       "ref": "ab2c637c-a998-4169-adcd-ffce5dee0a6a",
       "rows": [
        [
         "37",
         null,
         "2608770",
         "Lee,Vincent",
         "Graded",
         "2",
         "Bachelor of Business Admin - Business Administration",
         "Sophomore",
         "Lee",
         "Vincent",
         "2"
        ],
        [
         "8",
         null,
         "2696966",
         "Brodsky,Sammy (he/him/his)",
         "Graded",
         "2",
         "Liberal Arts & Sciences - Undeclared - Arts & Sciences/Film and Media Minor",
         "Freshman",
         "Brodsky",
         "Sammy ",
         "1"
        ],
        [
         "68",
         null,
         "2549427",
         "Wu,Andy (he/him/his)",
         "Graded",
         "2",
         "Liberal Arts & Sciences - Computer Science BS",
         "Senior",
         "Wu",
         "Andy ",
         "4"
        ],
        [
         "62",
         null,
         "2668985",
         "Umebayashi,Shawn (he/him/his)",
         "Graded",
         "2",
         "Liberal Arts & Sciences - Undeclared - Arts & Sciences",
         "Freshman",
         "Umebayashi",
         "Shawn ",
         "1"
        ]
       ],
       "shape": {
        "columns": 10,
        "rows": 4
       }
      },
      "text/html": [
       "<div>\n",
       "<style scoped>\n",
       "    .dataframe tbody tr th:only-of-type {\n",
       "        vertical-align: middle;\n",
       "    }\n",
       "\n",
       "    .dataframe tbody tr th {\n",
       "        vertical-align: top;\n",
       "    }\n",
       "\n",
       "    .dataframe thead th {\n",
       "        text-align: right;\n",
       "    }\n",
       "</style>\n",
       "<table border=\"1\" class=\"dataframe\">\n",
       "  <thead>\n",
       "    <tr style=\"text-align: right;\">\n",
       "      <th></th>\n",
       "      <th>Notify</th>\n",
       "      <th>ID</th>\n",
       "      <th>Name</th>\n",
       "      <th>Grade Basis</th>\n",
       "      <th>Units</th>\n",
       "      <th>Program and Plan</th>\n",
       "      <th>Level</th>\n",
       "      <th>first_name</th>\n",
       "      <th>last_name</th>\n",
       "      <th>Level_new</th>\n",
       "    </tr>\n",
       "  </thead>\n",
       "  <tbody>\n",
       "    <tr>\n",
       "      <th>37</th>\n",
       "      <td>NaN</td>\n",
       "      <td>2608770</td>\n",
       "      <td>Lee,Vincent</td>\n",
       "      <td>Graded</td>\n",
       "      <td>2</td>\n",
       "      <td>Bachelor of Business Admin - Business Administ...</td>\n",
       "      <td>Sophomore</td>\n",
       "      <td>Lee</td>\n",
       "      <td>Vincent</td>\n",
       "      <td>2</td>\n",
       "    </tr>\n",
       "    <tr>\n",
       "      <th>8</th>\n",
       "      <td>NaN</td>\n",
       "      <td>2696966</td>\n",
       "      <td>Brodsky,Sammy (he/him/his)</td>\n",
       "      <td>Graded</td>\n",
       "      <td>2</td>\n",
       "      <td>Liberal Arts &amp; Sciences - Undeclared - Arts &amp; ...</td>\n",
       "      <td>Freshman</td>\n",
       "      <td>Brodsky</td>\n",
       "      <td>Sammy</td>\n",
       "      <td>1</td>\n",
       "    </tr>\n",
       "    <tr>\n",
       "      <th>68</th>\n",
       "      <td>NaN</td>\n",
       "      <td>2549427</td>\n",
       "      <td>Wu,Andy (he/him/his)</td>\n",
       "      <td>Graded</td>\n",
       "      <td>2</td>\n",
       "      <td>Liberal Arts &amp; Sciences - Computer Science BS</td>\n",
       "      <td>Senior</td>\n",
       "      <td>Wu</td>\n",
       "      <td>Andy</td>\n",
       "      <td>4</td>\n",
       "    </tr>\n",
       "    <tr>\n",
       "      <th>62</th>\n",
       "      <td>NaN</td>\n",
       "      <td>2668985</td>\n",
       "      <td>Umebayashi,Shawn (he/him/his)</td>\n",
       "      <td>Graded</td>\n",
       "      <td>2</td>\n",
       "      <td>Liberal Arts &amp; Sciences - Undeclared - Arts &amp; ...</td>\n",
       "      <td>Freshman</td>\n",
       "      <td>Umebayashi</td>\n",
       "      <td>Shawn</td>\n",
       "      <td>1</td>\n",
       "    </tr>\n",
       "  </tbody>\n",
       "</table>\n",
       "</div>"
      ],
      "text/plain": [
       "    Notify       ID                           Name Grade Basis  Units  \\\n",
       "37     NaN  2608770                    Lee,Vincent      Graded      2   \n",
       "8      NaN  2696966     Brodsky,Sammy (he/him/his)      Graded      2   \n",
       "68     NaN  2549427           Wu,Andy (he/him/his)      Graded      2   \n",
       "62     NaN  2668985  Umebayashi,Shawn (he/him/his)      Graded      2   \n",
       "\n",
       "                                     Program and Plan      Level  first_name  \\\n",
       "37  Bachelor of Business Admin - Business Administ...  Sophomore         Lee   \n",
       "8   Liberal Arts & Sciences - Undeclared - Arts & ...   Freshman     Brodsky   \n",
       "68      Liberal Arts & Sciences - Computer Science BS     Senior          Wu   \n",
       "62  Liberal Arts & Sciences - Undeclared - Arts & ...   Freshman  Umebayashi   \n",
       "\n",
       "   last_name  Level_new  \n",
       "37   Vincent          2  \n",
       "8     Sammy           1  \n",
       "68     Andy           4  \n",
       "62    Shawn           1  "
      ]
     },
     "execution_count": 96,
     "metadata": {},
     "output_type": "execute_result"
    }
   ],
   "source": [
    "df3.sample(4)"
   ]
  },
  {
   "cell_type": "code",
   "execution_count": 113,
   "metadata": {},
   "outputs": [],
   "source": [
    "df4 = df3.copy()\n",
    "df4['group'] = np.nan"
   ]
  },
  {
   "cell_type": "code",
   "execution_count": 114,
   "metadata": {},
   "outputs": [],
   "source": [
    "df_temp = df4.copy()"
   ]
  },
  {
   "cell_type": "code",
   "execution_count": 115,
   "metadata": {},
   "outputs": [
    {
     "name": "stdout",
     "output_type": "stream",
     "text": [
      "10\n"
     ]
    }
   ],
   "source": [
    "i = 1\n",
    "\n",
    "while i <= 9:\n",
    "    df4.loc[df_temp.sample(4).index, 'group'] = i\n",
    "    df_temp = df_temp.drop(df4[df4['group'] == int(i)].index)\n",
    "    i += 1\n",
    "\n",
    "print(i)"
   ]
  },
  {
   "cell_type": "markdown",
   "metadata": {},
   "source": [
    "Always check if it ran well (\"as intended\"), by running a simple test. For example:"
   ]
  },
  {
   "cell_type": "code",
   "execution_count": 116,
   "metadata": {},
   "outputs": [
    {
     "data": {
      "text/plain": [
       "15.0"
      ]
     },
     "execution_count": 116,
     "metadata": {},
     "output_type": "execute_result"
    }
   ],
   "source": [
    "len(df_temp)/3"
   ]
  },
  {
   "cell_type": "markdown",
   "metadata": {},
   "source": [
    "Q: What does the below dataframe refer to?"
   ]
  },
  {
   "cell_type": "code",
   "execution_count": 117,
   "metadata": {},
   "outputs": [
    {
     "name": "stdout",
     "output_type": "stream",
     "text": [
      "45\n"
     ]
    },
    {
     "data": {
      "application/vnd.microsoft.datawrangler.viewer.v0+json": {
       "columns": [
        {
         "name": "index",
         "rawType": "int64",
         "type": "integer"
        },
        {
         "name": "Notify",
         "rawType": "float64",
         "type": "float"
        },
        {
         "name": "ID",
         "rawType": "int64",
         "type": "integer"
        },
        {
         "name": "Name",
         "rawType": "object",
         "type": "string"
        },
        {
         "name": "Grade Basis",
         "rawType": "object",
         "type": "string"
        },
        {
         "name": "Units",
         "rawType": "int64",
         "type": "integer"
        },
        {
         "name": "Program and Plan",
         "rawType": "object",
         "type": "string"
        },
        {
         "name": "Level",
         "rawType": "object",
         "type": "string"
        },
        {
         "name": "first_name",
         "rawType": "object",
         "type": "string"
        },
        {
         "name": "last_name",
         "rawType": "object",
         "type": "string"
        },
        {
         "name": "Level_new",
         "rawType": "int64",
         "type": "integer"
        },
        {
         "name": "group",
         "rawType": "float64",
         "type": "float"
        }
       ],
       "conversionMethod": "pd.DataFrame",
       "ref": "43e7d273-b04d-48e8-b5cb-23270156feb1",
       "rows": [
        [
         "0",
         null,
         "2554542",
         "Adeola,Isabella Olutoyin (she/her/hers)",
         "Graded",
         "2",
         "Liberal Arts & Sciences - Quantitative Sciences BS/English Minor",
         "Junior",
         "Adeola",
         "Isabella Olutoyin ",
         "3",
         null
        ],
        [
         "1",
         null,
         "2554565",
         "Alshekhlee,Zina (she/her/hers)",
         "Graded",
         "2",
         "Liberal Arts & Sciences - Psychology BA/Quantitative Sciences ND",
         "Senior",
         "Alshekhlee",
         "Zina ",
         "4",
         null
        ],
        [
         "3",
         null,
         "2540470",
         "Bayyigit,Onur (he/him/his)",
         "Graded",
         "2",
         "Liberal Arts & Sciences - Quantitative Sciences BS",
         "Junior",
         "Bayyigit",
         "Onur ",
         "3",
         null
        ],
        [
         "5",
         null,
         "2550484",
         "Belykh,Max",
         "Graded",
         "2",
         "Liberal Arts & Sciences - Economics BA",
         "Junior",
         "Belykh",
         "Max",
         "3",
         null
        ],
        [
         "8",
         null,
         "2696966",
         "Brodsky,Sammy (he/him/his)",
         "Graded",
         "2",
         "Liberal Arts & Sciences - Undeclared - Arts & Sciences/Film and Media Minor",
         "Freshman",
         "Brodsky",
         "Sammy ",
         "1",
         null
        ]
       ],
       "shape": {
        "columns": 11,
        "rows": 5
       }
      },
      "text/html": [
       "<div>\n",
       "<style scoped>\n",
       "    .dataframe tbody tr th:only-of-type {\n",
       "        vertical-align: middle;\n",
       "    }\n",
       "\n",
       "    .dataframe tbody tr th {\n",
       "        vertical-align: top;\n",
       "    }\n",
       "\n",
       "    .dataframe thead th {\n",
       "        text-align: right;\n",
       "    }\n",
       "</style>\n",
       "<table border=\"1\" class=\"dataframe\">\n",
       "  <thead>\n",
       "    <tr style=\"text-align: right;\">\n",
       "      <th></th>\n",
       "      <th>Notify</th>\n",
       "      <th>ID</th>\n",
       "      <th>Name</th>\n",
       "      <th>Grade Basis</th>\n",
       "      <th>Units</th>\n",
       "      <th>Program and Plan</th>\n",
       "      <th>Level</th>\n",
       "      <th>first_name</th>\n",
       "      <th>last_name</th>\n",
       "      <th>Level_new</th>\n",
       "      <th>group</th>\n",
       "    </tr>\n",
       "  </thead>\n",
       "  <tbody>\n",
       "    <tr>\n",
       "      <th>0</th>\n",
       "      <td>NaN</td>\n",
       "      <td>2554542</td>\n",
       "      <td>Adeola,Isabella Olutoyin (she/her/hers)</td>\n",
       "      <td>Graded</td>\n",
       "      <td>2</td>\n",
       "      <td>Liberal Arts &amp; Sciences - Quantitative Science...</td>\n",
       "      <td>Junior</td>\n",
       "      <td>Adeola</td>\n",
       "      <td>Isabella Olutoyin</td>\n",
       "      <td>3</td>\n",
       "      <td>NaN</td>\n",
       "    </tr>\n",
       "    <tr>\n",
       "      <th>1</th>\n",
       "      <td>NaN</td>\n",
       "      <td>2554565</td>\n",
       "      <td>Alshekhlee,Zina (she/her/hers)</td>\n",
       "      <td>Graded</td>\n",
       "      <td>2</td>\n",
       "      <td>Liberal Arts &amp; Sciences - Psychology BA/Quanti...</td>\n",
       "      <td>Senior</td>\n",
       "      <td>Alshekhlee</td>\n",
       "      <td>Zina</td>\n",
       "      <td>4</td>\n",
       "      <td>NaN</td>\n",
       "    </tr>\n",
       "    <tr>\n",
       "      <th>3</th>\n",
       "      <td>NaN</td>\n",
       "      <td>2540470</td>\n",
       "      <td>Bayyigit,Onur (he/him/his)</td>\n",
       "      <td>Graded</td>\n",
       "      <td>2</td>\n",
       "      <td>Liberal Arts &amp; Sciences - Quantitative Science...</td>\n",
       "      <td>Junior</td>\n",
       "      <td>Bayyigit</td>\n",
       "      <td>Onur</td>\n",
       "      <td>3</td>\n",
       "      <td>NaN</td>\n",
       "    </tr>\n",
       "    <tr>\n",
       "      <th>5</th>\n",
       "      <td>NaN</td>\n",
       "      <td>2550484</td>\n",
       "      <td>Belykh,Max</td>\n",
       "      <td>Graded</td>\n",
       "      <td>2</td>\n",
       "      <td>Liberal Arts &amp; Sciences - Economics BA</td>\n",
       "      <td>Junior</td>\n",
       "      <td>Belykh</td>\n",
       "      <td>Max</td>\n",
       "      <td>3</td>\n",
       "      <td>NaN</td>\n",
       "    </tr>\n",
       "    <tr>\n",
       "      <th>8</th>\n",
       "      <td>NaN</td>\n",
       "      <td>2696966</td>\n",
       "      <td>Brodsky,Sammy (he/him/his)</td>\n",
       "      <td>Graded</td>\n",
       "      <td>2</td>\n",
       "      <td>Liberal Arts &amp; Sciences - Undeclared - Arts &amp; ...</td>\n",
       "      <td>Freshman</td>\n",
       "      <td>Brodsky</td>\n",
       "      <td>Sammy</td>\n",
       "      <td>1</td>\n",
       "      <td>NaN</td>\n",
       "    </tr>\n",
       "  </tbody>\n",
       "</table>\n",
       "</div>"
      ],
      "text/plain": [
       "   Notify       ID                                     Name Grade Basis  \\\n",
       "0     NaN  2554542  Adeola,Isabella Olutoyin (she/her/hers)      Graded   \n",
       "1     NaN  2554565           Alshekhlee,Zina (she/her/hers)      Graded   \n",
       "3     NaN  2540470               Bayyigit,Onur (he/him/his)      Graded   \n",
       "5     NaN  2550484                               Belykh,Max      Graded   \n",
       "8     NaN  2696966               Brodsky,Sammy (he/him/his)      Graded   \n",
       "\n",
       "   Units                                   Program and Plan     Level  \\\n",
       "0      2  Liberal Arts & Sciences - Quantitative Science...    Junior   \n",
       "1      2  Liberal Arts & Sciences - Psychology BA/Quanti...    Senior   \n",
       "3      2  Liberal Arts & Sciences - Quantitative Science...    Junior   \n",
       "5      2             Liberal Arts & Sciences - Economics BA    Junior   \n",
       "8      2  Liberal Arts & Sciences - Undeclared - Arts & ...  Freshman   \n",
       "\n",
       "   first_name           last_name  Level_new  group  \n",
       "0      Adeola  Isabella Olutoyin           3    NaN  \n",
       "1  Alshekhlee               Zina           4    NaN  \n",
       "3    Bayyigit               Onur           3    NaN  \n",
       "5      Belykh                 Max          3    NaN  \n",
       "8     Brodsky              Sammy           1    NaN  "
      ]
     },
     "execution_count": 117,
     "metadata": {},
     "output_type": "execute_result"
    }
   ],
   "source": [
    "print(len(df_temp))\n",
    "df_temp.head()"
   ]
  },
  {
   "cell_type": "markdown",
   "metadata": {},
   "source": [
    "Q: Why is there a group number assigned for some people, but not others?"
   ]
  },
  {
   "cell_type": "code",
   "execution_count": 118,
   "metadata": {},
   "outputs": [
    {
     "data": {
      "application/vnd.microsoft.datawrangler.viewer.v0+json": {
       "columns": [
        {
         "name": "index",
         "rawType": "int64",
         "type": "integer"
        },
        {
         "name": "Notify",
         "rawType": "float64",
         "type": "float"
        },
        {
         "name": "ID",
         "rawType": "int64",
         "type": "integer"
        },
        {
         "name": "Name",
         "rawType": "object",
         "type": "string"
        },
        {
         "name": "Grade Basis",
         "rawType": "object",
         "type": "string"
        },
        {
         "name": "Units",
         "rawType": "int64",
         "type": "integer"
        },
        {
         "name": "Program and Plan",
         "rawType": "object",
         "type": "string"
        },
        {
         "name": "Level",
         "rawType": "object",
         "type": "string"
        },
        {
         "name": "first_name",
         "rawType": "object",
         "type": "string"
        },
        {
         "name": "last_name",
         "rawType": "object",
         "type": "string"
        },
        {
         "name": "Level_new",
         "rawType": "int64",
         "type": "integer"
        },
        {
         "name": "group",
         "rawType": "float64",
         "type": "float"
        }
       ],
       "conversionMethod": "pd.DataFrame",
       "ref": "f4300d56-7fad-4f8c-ab4e-42959246465f",
       "rows": [
        [
         "0",
         null,
         "2554542",
         "Adeola,Isabella Olutoyin (she/her/hers)",
         "Graded",
         "2",
         "Liberal Arts & Sciences - Quantitative Sciences BS/English Minor",
         "Junior",
         "Adeola",
         "Isabella Olutoyin ",
         "3",
         null
        ],
        [
         "1",
         null,
         "2554565",
         "Alshekhlee,Zina (she/her/hers)",
         "Graded",
         "2",
         "Liberal Arts & Sciences - Psychology BA/Quantitative Sciences ND",
         "Senior",
         "Alshekhlee",
         "Zina ",
         "4",
         null
        ],
        [
         "2",
         null,
         "2630943",
         "Arora,Advitya",
         "Graded",
         "2",
         "Liberal Arts & Sciences - Undeclared - Arts & Sciences",
         "Sophomore",
         "Arora",
         "Advitya",
         "2",
         "3.0"
        ],
        [
         "3",
         null,
         "2540470",
         "Bayyigit,Onur (he/him/his)",
         "Graded",
         "2",
         "Liberal Arts & Sciences - Quantitative Sciences BS",
         "Junior",
         "Bayyigit",
         "Onur ",
         "3",
         null
        ],
        [
         "4",
         null,
         "2671403",
         "Bell Jr.,Wallace (he/him/his)",
         "Graded",
         "2",
         "Liberal Arts & Sciences - Undeclared - Arts & Sciences",
         "Freshman",
         "Bell Jr.",
         "Wallace ",
         "1",
         "2.0"
        ],
        [
         "5",
         null,
         "2550484",
         "Belykh,Max",
         "Graded",
         "2",
         "Liberal Arts & Sciences - Economics BA",
         "Junior",
         "Belykh",
         "Max",
         "3",
         null
        ],
        [
         "6",
         null,
         "2492303",
         "Bhatia,Kush (he/him/his)",
         "Graded",
         "2",
         "Bachelor of Business Admin - Business Administration/Quantitative Sciences",
         "Senior",
         "Bhatia",
         "Kush ",
         "4",
         "6.0"
        ],
        [
         "7",
         null,
         "2486624",
         "Braverman,Charlie Cody (he/him/his)",
         "Graded",
         "2",
         "Liberal Arts & Sciences - Economics BA/Quantitative Sciences Minor",
         "Senior",
         "Braverman",
         "Charlie Cody ",
         "4",
         "8.0"
        ],
        [
         "8",
         null,
         "2696966",
         "Brodsky,Sammy (he/him/his)",
         "Graded",
         "2",
         "Liberal Arts & Sciences - Undeclared - Arts & Sciences/Film and Media Minor",
         "Freshman",
         "Brodsky",
         "Sammy ",
         "1",
         null
        ],
        [
         "9",
         null,
         "2675122",
         "Cao,Edward",
         "Graded",
         "2",
         "Liberal Arts & Sciences - Undeclared - Arts & Sciences",
         "Freshman",
         "Cao",
         "Edward",
         "1",
         null
        ],
        [
         "10",
         null,
         "2670708",
         "Carrus,Parker (he/him/his)",
         "Graded",
         "2",
         "Liberal Arts & Sciences - Undeclared - Arts & Sciences",
         "Freshman",
         "Carrus",
         "Parker ",
         "1",
         null
        ],
        [
         "11",
         null,
         "2607906",
         "Chathurvedula,Mihir",
         "Graded",
         "2",
         "Liberal Arts & Sciences - Quantitative Sciences BS",
         "Junior",
         "Chathurvedula",
         "Mihir",
         "3",
         "7.0"
        ],
        [
         "12",
         null,
         "2611626",
         "Chen,Grace (she/her/hers)",
         "Graded",
         "2",
         "Liberal Arts & Sciences - Psychology BS/Music Minor",
         "Junior",
         "Chen",
         "Grace ",
         "3",
         null
        ],
        [
         "13",
         null,
         "2593764",
         "Chen,Tiffany (she/her/hers)",
         "Graded",
         "2",
         "Liberal Arts & Sciences - Environmental Sciences BS/Quantitative Sciences Minor",
         "Senior",
         "Chen",
         "Tiffany ",
         "4",
         "7.0"
        ],
        [
         "14",
         null,
         "2704842",
         "Cheong,Chris (he/him/his)",
         "Graded",
         "2",
         "Liberal Arts & Sciences - Undeclared - Arts & Sciences",
         "Freshman",
         "Cheong",
         "Chris ",
         "1",
         null
        ],
        [
         "15",
         null,
         "2546880",
         "Chiok,Ben (he/him/his)",
         "Graded",
         "2",
         "Liberal Arts & Sciences - Chemistry BS/Quantitative Sciences Minor",
         "Senior",
         "Chiok",
         "Ben ",
         "4",
         null
        ],
        [
         "16",
         null,
         "2622780",
         "Constant,Michael (he/him/his)",
         "Graded",
         "2",
         "Liberal Arts & Sciences - Mathematics, Applied BS",
         "Sophomore",
         "Constant",
         "Michael ",
         "2",
         null
        ],
        [
         "17",
         null,
         "2606259",
         "Coulanges,Elijah (he/him/his)",
         "Graded",
         "2",
         "Liberal Arts & Sciences - Undeclared - Arts & Sciences",
         "Sophomore",
         "Coulanges",
         "Elijah ",
         "2",
         null
        ],
        [
         "18",
         null,
         "2614253",
         "Cyebukayire,Peace (she/her/hers)",
         "Graded",
         "2",
         "Liberal Arts & Sciences - Computer Science BS/Applied Mathematics & Stats ND",
         "Sophomore",
         "Cyebukayire",
         "Peace ",
         "2",
         null
        ],
        [
         "19",
         null,
         "2512921",
         "Dahi,Darya",
         "Graded",
         "2",
         "Liberal Arts & Sciences - Anthropology & Human Bio BS/Quantitative Sciences Minor",
         "Senior",
         "Dahi",
         "Darya",
         "4",
         "1.0"
        ],
        [
         "20",
         null,
         "2609229",
         "Gao,Ruiting",
         "Graded",
         "2",
         "Liberal Arts & Sciences - Undeclared - Arts & Sciences/Economics ND",
         "Junior",
         "Gao",
         "Ruiting",
         "3",
         "1.0"
        ],
        [
         "21",
         null,
         "2724472",
         "Gibbs,Ally (she/her/hers)",
         "Graded",
         "2",
         "Liberal Arts & Sciences - Undeclared - Arts & Sciences",
         "Sophomore",
         "Gibbs",
         "Ally ",
         "2",
         "9.0"
        ],
        [
         "22",
         null,
         "2705750",
         "Goyal,Khushi (she/her/hers)",
         "Graded",
         "2",
         "Liberal Arts & Sciences - Undeclared - Arts & Sciences",
         "Freshman",
         "Goyal",
         "Khushi ",
         "1",
         "2.0"
        ],
        [
         "23",
         null,
         "2606428",
         "Gu,Jennifer",
         "Graded",
         "2",
         "Liberal Arts & Sciences - Applied Mathematics & Stats BS/English & Creative Writing ND",
         "Junior",
         "Gu",
         "Jennifer",
         "3",
         "6.0"
        ],
        [
         "24",
         null,
         "2598599",
         "Hassan,Donia",
         "Graded",
         "2",
         "Liberal Arts & Sciences - Neuroscience & Behav Bio. BS/Neuroethics Minor",
         "Senior",
         "Hassan",
         "Donia",
         "4",
         null
        ],
        [
         "25",
         null,
         "2544551",
         "He,Olivia (she/her/hers)",
         "Graded",
         "2",
         "Liberal Arts & Sciences - Biology BS",
         "Senior",
         "He",
         "Olivia ",
         "4",
         "1.0"
        ],
        [
         "26",
         null,
         "2634698",
         "Hu,Steven (he/him/his)",
         "Graded",
         "2",
         "Liberal Arts & Sciences - Quantitative Sciences BS",
         "Junior",
         "Hu",
         "Steven ",
         "3",
         "2.0"
        ],
        [
         "27",
         null,
         "2550032",
         "Huang,Anny",
         "Graded",
         "2",
         "Liberal Arts & Sciences - Psychology BS/Quantitative Sciences Minor",
         "Senior",
         "Huang",
         "Anny",
         "4",
         null
        ],
        [
         "28",
         null,
         "2506540",
         "Huang,Hannah (she/her/hers)",
         "Graded",
         "2",
         "Liberal Arts & Sciences - Biology BS/Quantitative Sciences Minor",
         "Senior",
         "Huang",
         "Hannah ",
         "4",
         "8.0"
        ],
        [
         "29",
         null,
         "2586663",
         "Huang,Ryan (he/him/his)",
         "Graded",
         "2",
         "Bachelor of Business Admin - Business Administration",
         "Junior",
         "Huang",
         "Ryan ",
         "3",
         "9.0"
        ],
        [
         "30",
         null,
         "2634749",
         "Hurwitz,Sophie Maria (she/her/hers)",
         "Graded",
         "2",
         "Liberal Arts & Sciences - Undeclared - Arts & Sciences",
         "Junior",
         "Hurwitz",
         "Sophie Maria ",
         "3",
         "9.0"
        ],
        [
         "31",
         null,
         "2670288",
         "Jagannathan,Mira",
         "Graded",
         "2",
         "Liberal Arts & Sciences - Undeclared - Arts & Sciences",
         "Freshman",
         "Jagannathan",
         "Mira",
         "1",
         "5.0"
        ],
        [
         "32",
         null,
         "2632425",
         "Jones,Gabby (she/her/hers)",
         "Graded",
         "2",
         "Liberal Arts & Sciences - Economics and Human Health/Quantitative Sciences Minor",
         "Sophomore",
         "Jones",
         "Gabby ",
         "2",
         null
        ],
        [
         "33",
         null,
         "2609319",
         "Ke,Rola",
         "Graded",
         "2",
         "Liberal Arts & Sciences - Psychology BS/Quantitative Sciences ND",
         "Junior",
         "Ke",
         "Rola",
         "3",
         "3.0"
        ],
        [
         "34",
         null,
         "2706689",
         "Kim,Caleb (he/him/his)",
         "Graded",
         "2",
         "Liberal Arts & Sciences - Undeclared - Arts & Sciences",
         "Freshman",
         "Kim",
         "Caleb ",
         "1",
         "6.0"
        ],
        [
         "35",
         null,
         "2578959",
         "Lee,Andrew (he/him/his)",
         "Graded",
         "2",
         "Liberal Arts & Sciences - Computer Science BS",
         "Senior",
         "Lee",
         "Andrew ",
         "4",
         null
        ],
        [
         "36",
         null,
         "2604238",
         "Lee,Oliver (he/him/his)",
         "Graded",
         "2",
         "Bachelor of Business Admin - Business Administration",
         "Sophomore",
         "Lee",
         "Oliver ",
         "2",
         null
        ],
        [
         "37",
         null,
         "2608770",
         "Lee,Vincent",
         "Graded",
         "2",
         "Bachelor of Business Admin - Business Administration",
         "Sophomore",
         "Lee",
         "Vincent",
         "2",
         null
        ],
        [
         "38",
         null,
         "2694032",
         "Levin,Ariel",
         "Graded",
         "2",
         "Liberal Arts & Sciences - Undeclared - Arts & Sciences",
         "Freshman",
         "Levin",
         "Ariel",
         "1",
         null
        ],
        [
         "39",
         null,
         "2549011",
         "Li,Bert",
         "Graded",
         "2",
         "Liberal Arts & Sciences - Economics BA",
         "Senior",
         "Li",
         "Bert",
         "4",
         "1.0"
        ],
        [
         "40",
         null,
         "2609368",
         "Li,Elliot",
         "Graded",
         "2",
         "Bachelor of Business Admin - Business Administration",
         "Junior",
         "Li",
         "Elliot",
         "3",
         null
        ],
        [
         "41",
         null,
         "2609366",
         "Li,Jason (Prefer not to say)",
         "Graded",
         "2",
         "Liberal Arts & Sciences - Quantitative Sciences BS",
         "Junior",
         "Li",
         "Jason ",
         "3",
         "3.0"
        ],
        [
         "42",
         null,
         "2635194",
         "Li,Luke (he/him/his)",
         "Graded",
         "2",
         "Bachelor of Business Admin - Business Administration/Quantitative Sciences",
         "Sophomore",
         "Li",
         "Luke ",
         "2",
         null
        ],
        [
         "43",
         null,
         "2608786",
         "Li,Zixuan",
         "Graded",
         "2",
         "Bachelor of Business Admin - Business Administration",
         "Sophomore",
         "Li",
         "Zixuan",
         "2",
         "3.0"
        ],
        [
         "44",
         null,
         "2486031",
         "Lin,Amber (she/her/hers)",
         "Graded",
         "2",
         "Bachelor of Business Admin - Business Administration",
         "Senior",
         "Lin",
         "Amber ",
         "4",
         null
        ],
        [
         "45",
         null,
         "2583244",
         "Liu,Ann (she/her/hers)",
         "Graded",
         "2",
         "Liberal Arts & Sciences - Anthropology & Human Bio BS/Quantitative Sciences Minor",
         "Senior",
         "Liu",
         "Ann ",
         "4",
         null
        ],
        [
         "46",
         null,
         "2630273",
         "Liu,Steven",
         "Graded",
         "2",
         "Liberal Arts & Sciences - Mathematics & Computer Sci. BS/Quantitative Sciences Minor",
         "Junior",
         "Liu",
         "Steven",
         "3",
         null
        ],
        [
         "47",
         null,
         "2669104",
         "Lowery,Dalton (he/him/his)",
         "Graded",
         "2",
         "Liberal Arts & Sciences - Undeclared - Arts & Sciences",
         "Freshman",
         "Lowery",
         "Dalton ",
         "1",
         "9.0"
        ],
        [
         "48",
         null,
         "2609405",
         "Lyu,Yang",
         "Graded",
         "2",
         "Liberal Arts & Sciences - Quantitative Sciences BS",
         "Junior",
         "Lyu",
         "Yang",
         "3",
         null
        ],
        [
         "49",
         null,
         "2549333",
         "Martini,Katherine",
         "Graded",
         "2",
         "Liberal Arts & Sciences - Computer Science BA/Quantitative Sciences Minor",
         "Senior",
         "Martini",
         "Katherine",
         "4",
         null
        ]
       ],
       "shape": {
        "columns": 11,
        "rows": 81
       }
      },
      "text/html": [
       "<div>\n",
       "<style scoped>\n",
       "    .dataframe tbody tr th:only-of-type {\n",
       "        vertical-align: middle;\n",
       "    }\n",
       "\n",
       "    .dataframe tbody tr th {\n",
       "        vertical-align: top;\n",
       "    }\n",
       "\n",
       "    .dataframe thead th {\n",
       "        text-align: right;\n",
       "    }\n",
       "</style>\n",
       "<table border=\"1\" class=\"dataframe\">\n",
       "  <thead>\n",
       "    <tr style=\"text-align: right;\">\n",
       "      <th></th>\n",
       "      <th>Notify</th>\n",
       "      <th>ID</th>\n",
       "      <th>Name</th>\n",
       "      <th>Grade Basis</th>\n",
       "      <th>Units</th>\n",
       "      <th>Program and Plan</th>\n",
       "      <th>Level</th>\n",
       "      <th>first_name</th>\n",
       "      <th>last_name</th>\n",
       "      <th>Level_new</th>\n",
       "      <th>group</th>\n",
       "    </tr>\n",
       "  </thead>\n",
       "  <tbody>\n",
       "    <tr>\n",
       "      <th>0</th>\n",
       "      <td>NaN</td>\n",
       "      <td>2554542</td>\n",
       "      <td>Adeola,Isabella Olutoyin (she/her/hers)</td>\n",
       "      <td>Graded</td>\n",
       "      <td>2</td>\n",
       "      <td>Liberal Arts &amp; Sciences - Quantitative Science...</td>\n",
       "      <td>Junior</td>\n",
       "      <td>Adeola</td>\n",
       "      <td>Isabella Olutoyin</td>\n",
       "      <td>3</td>\n",
       "      <td>NaN</td>\n",
       "    </tr>\n",
       "    <tr>\n",
       "      <th>1</th>\n",
       "      <td>NaN</td>\n",
       "      <td>2554565</td>\n",
       "      <td>Alshekhlee,Zina (she/her/hers)</td>\n",
       "      <td>Graded</td>\n",
       "      <td>2</td>\n",
       "      <td>Liberal Arts &amp; Sciences - Psychology BA/Quanti...</td>\n",
       "      <td>Senior</td>\n",
       "      <td>Alshekhlee</td>\n",
       "      <td>Zina</td>\n",
       "      <td>4</td>\n",
       "      <td>NaN</td>\n",
       "    </tr>\n",
       "    <tr>\n",
       "      <th>2</th>\n",
       "      <td>NaN</td>\n",
       "      <td>2630943</td>\n",
       "      <td>Arora,Advitya</td>\n",
       "      <td>Graded</td>\n",
       "      <td>2</td>\n",
       "      <td>Liberal Arts &amp; Sciences - Undeclared - Arts &amp; ...</td>\n",
       "      <td>Sophomore</td>\n",
       "      <td>Arora</td>\n",
       "      <td>Advitya</td>\n",
       "      <td>2</td>\n",
       "      <td>3.0</td>\n",
       "    </tr>\n",
       "    <tr>\n",
       "      <th>3</th>\n",
       "      <td>NaN</td>\n",
       "      <td>2540470</td>\n",
       "      <td>Bayyigit,Onur (he/him/his)</td>\n",
       "      <td>Graded</td>\n",
       "      <td>2</td>\n",
       "      <td>Liberal Arts &amp; Sciences - Quantitative Science...</td>\n",
       "      <td>Junior</td>\n",
       "      <td>Bayyigit</td>\n",
       "      <td>Onur</td>\n",
       "      <td>3</td>\n",
       "      <td>NaN</td>\n",
       "    </tr>\n",
       "    <tr>\n",
       "      <th>4</th>\n",
       "      <td>NaN</td>\n",
       "      <td>2671403</td>\n",
       "      <td>Bell Jr.,Wallace (he/him/his)</td>\n",
       "      <td>Graded</td>\n",
       "      <td>2</td>\n",
       "      <td>Liberal Arts &amp; Sciences - Undeclared - Arts &amp; ...</td>\n",
       "      <td>Freshman</td>\n",
       "      <td>Bell Jr.</td>\n",
       "      <td>Wallace</td>\n",
       "      <td>1</td>\n",
       "      <td>2.0</td>\n",
       "    </tr>\n",
       "    <tr>\n",
       "      <th>...</th>\n",
       "      <td>...</td>\n",
       "      <td>...</td>\n",
       "      <td>...</td>\n",
       "      <td>...</td>\n",
       "      <td>...</td>\n",
       "      <td>...</td>\n",
       "      <td>...</td>\n",
       "      <td>...</td>\n",
       "      <td>...</td>\n",
       "      <td>...</td>\n",
       "      <td>...</td>\n",
       "    </tr>\n",
       "    <tr>\n",
       "      <th>76</th>\n",
       "      <td>NaN</td>\n",
       "      <td>2487723</td>\n",
       "      <td>Yin,Antony</td>\n",
       "      <td>Graded</td>\n",
       "      <td>2</td>\n",
       "      <td>Liberal Arts &amp; Sciences - Applied Mathematics ...</td>\n",
       "      <td>Senior</td>\n",
       "      <td>Yin</td>\n",
       "      <td>Antony</td>\n",
       "      <td>4</td>\n",
       "      <td>NaN</td>\n",
       "    </tr>\n",
       "    <tr>\n",
       "      <th>77</th>\n",
       "      <td>NaN</td>\n",
       "      <td>2609653</td>\n",
       "      <td>Zhan,Huanzhe</td>\n",
       "      <td>Graded</td>\n",
       "      <td>2</td>\n",
       "      <td>Liberal Arts &amp; Sciences - Undeclared - Arts &amp; ...</td>\n",
       "      <td>Junior</td>\n",
       "      <td>Zhan</td>\n",
       "      <td>Huanzhe</td>\n",
       "      <td>3</td>\n",
       "      <td>4.0</td>\n",
       "    </tr>\n",
       "    <tr>\n",
       "      <th>78</th>\n",
       "      <td>NaN</td>\n",
       "      <td>2610443</td>\n",
       "      <td>Zhang,Coco</td>\n",
       "      <td>Graded</td>\n",
       "      <td>2</td>\n",
       "      <td>Liberal Arts &amp; Sciences - Psychology BS/Sociol...</td>\n",
       "      <td>Junior</td>\n",
       "      <td>Zhang</td>\n",
       "      <td>Coco</td>\n",
       "      <td>3</td>\n",
       "      <td>NaN</td>\n",
       "    </tr>\n",
       "    <tr>\n",
       "      <th>79</th>\n",
       "      <td>NaN</td>\n",
       "      <td>2644641</td>\n",
       "      <td>Zhang,Crystal (she/her/hers)</td>\n",
       "      <td>Graded</td>\n",
       "      <td>2</td>\n",
       "      <td>Liberal Arts &amp; Sciences - Neuroscience &amp; Behav...</td>\n",
       "      <td>Junior</td>\n",
       "      <td>Zhang</td>\n",
       "      <td>Crystal</td>\n",
       "      <td>3</td>\n",
       "      <td>8.0</td>\n",
       "    </tr>\n",
       "    <tr>\n",
       "      <th>80</th>\n",
       "      <td>NaN</td>\n",
       "      <td>2645618</td>\n",
       "      <td>Zhou,Yunshi</td>\n",
       "      <td>Graded</td>\n",
       "      <td>2</td>\n",
       "      <td>Associate of Arts - Arts &amp; Sciences</td>\n",
       "      <td>Sophomore</td>\n",
       "      <td>Zhou</td>\n",
       "      <td>Yunshi</td>\n",
       "      <td>2</td>\n",
       "      <td>NaN</td>\n",
       "    </tr>\n",
       "  </tbody>\n",
       "</table>\n",
       "<p>81 rows × 11 columns</p>\n",
       "</div>"
      ],
      "text/plain": [
       "    Notify       ID                                     Name Grade Basis  \\\n",
       "0      NaN  2554542  Adeola,Isabella Olutoyin (she/her/hers)      Graded   \n",
       "1      NaN  2554565           Alshekhlee,Zina (she/her/hers)      Graded   \n",
       "2      NaN  2630943                            Arora,Advitya      Graded   \n",
       "3      NaN  2540470               Bayyigit,Onur (he/him/his)      Graded   \n",
       "4      NaN  2671403            Bell Jr.,Wallace (he/him/his)      Graded   \n",
       "..     ...      ...                                      ...         ...   \n",
       "76     NaN  2487723                               Yin,Antony      Graded   \n",
       "77     NaN  2609653                             Zhan,Huanzhe      Graded   \n",
       "78     NaN  2610443                               Zhang,Coco      Graded   \n",
       "79     NaN  2644641             Zhang,Crystal (she/her/hers)      Graded   \n",
       "80     NaN  2645618                              Zhou,Yunshi      Graded   \n",
       "\n",
       "    Units                                   Program and Plan      Level  \\\n",
       "0       2  Liberal Arts & Sciences - Quantitative Science...     Junior   \n",
       "1       2  Liberal Arts & Sciences - Psychology BA/Quanti...     Senior   \n",
       "2       2  Liberal Arts & Sciences - Undeclared - Arts & ...  Sophomore   \n",
       "3       2  Liberal Arts & Sciences - Quantitative Science...     Junior   \n",
       "4       2  Liberal Arts & Sciences - Undeclared - Arts & ...   Freshman   \n",
       "..    ...                                                ...        ...   \n",
       "76      2  Liberal Arts & Sciences - Applied Mathematics ...     Senior   \n",
       "77      2  Liberal Arts & Sciences - Undeclared - Arts & ...     Junior   \n",
       "78      2  Liberal Arts & Sciences - Psychology BS/Sociol...     Junior   \n",
       "79      2  Liberal Arts & Sciences - Neuroscience & Behav...     Junior   \n",
       "80      2                Associate of Arts - Arts & Sciences  Sophomore   \n",
       "\n",
       "    first_name           last_name  Level_new  group  \n",
       "0       Adeola  Isabella Olutoyin           3    NaN  \n",
       "1   Alshekhlee               Zina           4    NaN  \n",
       "2        Arora             Advitya          2    3.0  \n",
       "3     Bayyigit               Onur           3    NaN  \n",
       "4     Bell Jr.            Wallace           1    2.0  \n",
       "..         ...                 ...        ...    ...  \n",
       "76         Yin              Antony          4    NaN  \n",
       "77        Zhan             Huanzhe          3    4.0  \n",
       "78       Zhang                Coco          3    NaN  \n",
       "79       Zhang            Crystal           3    8.0  \n",
       "80        Zhou              Yunshi          2    NaN  \n",
       "\n",
       "[81 rows x 11 columns]"
      ]
     },
     "execution_count": 118,
     "metadata": {},
     "output_type": "execute_result"
    }
   ],
   "source": [
    "df4"
   ]
  },
  {
   "cell_type": "code",
   "execution_count": 119,
   "metadata": {},
   "outputs": [
    {
     "name": "stdout",
     "output_type": "stream",
     "text": [
      "25\n"
     ]
    }
   ],
   "source": [
    "j = 10\n",
    "\n",
    "while j <= 24:\n",
    "    df4.loc[df_temp.sample(3).index, 'group'] = j\n",
    "    df_temp = df_temp.drop(df4[df4['group'] == j].index)\n",
    "    j += 1\n",
    "\n",
    "print(j)"
   ]
  },
  {
   "cell_type": "code",
   "execution_count": 120,
   "metadata": {},
   "outputs": [
    {
     "data": {
      "text/plain": [
       "0"
      ]
     },
     "execution_count": 120,
     "metadata": {},
     "output_type": "execute_result"
    }
   ],
   "source": [
    "df4['group'].isna().sum()"
   ]
  },
  {
   "cell_type": "code",
   "execution_count": 122,
   "metadata": {},
   "outputs": [
    {
     "data": {
      "text/plain": [
       "[1.0,\n",
       " 2.0,\n",
       " 3.0,\n",
       " 4.0,\n",
       " 5.0,\n",
       " 6.0,\n",
       " 7.0,\n",
       " 8.0,\n",
       " 9.0,\n",
       " 10.0,\n",
       " 11.0,\n",
       " 12.0,\n",
       " 13.0,\n",
       " 14.0,\n",
       " 15.0,\n",
       " 16.0,\n",
       " 17.0,\n",
       " 18.0,\n",
       " 19.0,\n",
       " 20.0,\n",
       " 21.0,\n",
       " 22.0,\n",
       " 23.0,\n",
       " 24.0]"
      ]
     },
     "execution_count": 122,
     "metadata": {},
     "output_type": "execute_result"
    }
   ],
   "source": [
    "sorted(df4['group'].unique())"
   ]
  },
  {
   "cell_type": "code",
   "execution_count": null,
   "metadata": {},
   "outputs": [
    {
     "data": {
      "text/plain": [
       "group\n",
       "1.0     4\n",
       "2.0     4\n",
       "3.0     4\n",
       "4.0     4\n",
       "5.0     4\n",
       "6.0     4\n",
       "7.0     4\n",
       "8.0     4\n",
       "9.0     4\n",
       "10.0    3\n",
       "11.0    3\n",
       "12.0    3\n",
       "13.0    3\n",
       "14.0    3\n",
       "15.0    3\n",
       "16.0    3\n",
       "17.0    3\n",
       "18.0    3\n",
       "19.0    3\n",
       "20.0    3\n",
       "21.0    3\n",
       "22.0    3\n",
       "23.0    3\n",
       "24.0    3\n",
       "Name: count, dtype: int64"
      ]
     },
     "execution_count": 126,
     "metadata": {},
     "output_type": "execute_result"
    }
   ],
   "source": [
    "df4['group'].value_counts().sort_index()"
   ]
  },
  {
   "cell_type": "markdown",
   "metadata": {},
   "source": [
    "<font size = \"5\"> Do it yourself!\n",
    "</font>\n",
    "\n",
    "<font size = \"3\"> Navigate through this notebook using Outline tab in VS code, and try the Q: exercises. <br>\n",
    "\n",
    "Try to rewrite the ```apply``` codes using other commands such as user defined function, for loop, etc. and vice versa. Suggest a good exercise on Canvas discussion for the class!"
   ]
  }
 ],
 "metadata": {
  "kernelspec": {
   "display_name": "qtm151-f24",
   "language": "python",
   "name": "python3"
  },
  "language_info": {
   "codemirror_mode": {
    "name": "ipython",
    "version": 3
   },
   "file_extension": ".py",
   "mimetype": "text/x-python",
   "name": "python",
   "nbconvert_exporter": "python",
   "pygments_lexer": "ipython3",
   "version": "3.8.19"
  }
 },
 "nbformat": 4,
 "nbformat_minor": 2
}
